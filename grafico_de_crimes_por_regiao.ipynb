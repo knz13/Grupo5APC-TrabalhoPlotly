{
 "cells": [
  {
   "cell_type": "code",
   "execution_count": 2,
   "metadata": {},
   "outputs": [
    {
     "name": "stderr",
     "output_type": "stream",
     "text": [
      "C:\\Users\\Admin\\AppData\\Roaming\\Python\\Python37\\site-packages\\ipykernel_launcher.py:7: UserWarning: \n",
      "The dash_core_components package is deprecated. Please replace\n",
      "`import dash_core_components as dcc` with `from dash import dcc`\n",
      "  import sys\n",
      "C:\\Users\\Admin\\AppData\\Roaming\\Python\\Python37\\site-packages\\ipykernel_launcher.py:8: UserWarning: \n",
      "The dash_html_components package is deprecated. Please replace\n",
      "`import dash_html_components as html` with `from dash import html`\n",
      "  \n"
     ]
    }
   ],
   "source": [
    "# importando as bibliotecas\n",
    "from os import name\n",
    "import plotly.express as px\n",
    "import pandas as pd\n",
    "# bibliotecas que só serão usadas na próxima avaliação \n",
    "import dash \n",
    "import dash_core_components as dcc\n",
    "import dash_html_components as html\n",
    "\n",
    "\n",
    "# criando os data frames \n",
    "df1 = pd.read_excel(\"indicadoressegurancapublicauf.xlsx\")\n",
    "df2 = pd.read_csv(\"regioesbrasileiras.csv\", sep=\";\")\n",
    "\n",
    "# transformando os data frames em listas\n",
    "data1 = df1.values.tolist()\n",
    "data2 = df2.values.tolist()"
   ]
  },
  {
   "cell_type": "code",
   "execution_count": 4,
   "metadata": {},
   "outputs": [],
   "source": [
    "crime = []\n",
    "ocorrencias = []\n",
    "\n",
    "# coloca os elementos anteriores a 2021 em listas por categoria\n",
    "for linha in data1:\n",
    "    if linha[2] != 2021: # linha[2] = ano   \n",
    "        crime.append(linha[1]) # linha[1] = crime\n",
    "        ocorrencias.append(linha[4]) # linha[4] = ocorrencia"
   ]
  },
  {
   "cell_type": "code",
   "execution_count": 6,
   "metadata": {},
   "outputs": [],
   "source": [
    "#criando uma tabela com a região\n",
    "regiao = []\n",
    "for c in range (0,len(data2)): #percorrendo o data2\n",
    "    for d in range (0,len(data1)): #percorrendo o data1\n",
    "        if data1[d][2] != 2021: # o d corresponde a coluna, data1[d][2] = ano\n",
    "            if data2[c][1] == data1[d][0]: #comparando o nome do estado no data2 com o nome do estado no data1\n",
    "                regiao.append(data2[c][0]) # adiciona na lista 'regiao' o nome da região correspondente àquele estado"
   ]
  },
  {
   "cell_type": "code",
   "execution_count": 9,
   "metadata": {},
   "outputs": [
    {
     "data": {
      "application/vnd.plotly.v1+json": {
       "config": {
        "plotlyServerURL": "https://plot.ly"
       },
       "data": [
        {
         "branchvalues": "total",
         "domain": {
          "x": [
           0,
           1
          ],
          "y": [
           0,
           1
          ]
         },
         "hovertemplate": "labels=%{label}<br>ocorrencias=%{value}<br>parent=%{parent}<br>id=%{id}<extra></extra>",
         "ids": [
          "Centro-Oeste/Estupro",
          "Nordeste/Estupro",
          "Norte/Estupro",
          "Sudeste/Estupro",
          "Sul/Estupro",
          "Centro-Oeste/Furto de veículo",
          "Nordeste/Furto de veículo",
          "Norte/Furto de veículo",
          "Sudeste/Furto de veículo",
          "Sul/Furto de veículo",
          "Centro-Oeste/Homicídio doloso",
          "Nordeste/Homicídio doloso",
          "Norte/Homicídio doloso",
          "Sudeste/Homicídio doloso",
          "Sul/Homicídio doloso",
          "Centro-Oeste/Lesão corporal seguida de morte",
          "Nordeste/Lesão corporal seguida de morte",
          "Norte/Lesão corporal seguida de morte",
          "Sudeste/Lesão corporal seguida de morte",
          "Sul/Lesão corporal seguida de morte",
          "Centro-Oeste/Roubo a instituição financeira",
          "Nordeste/Roubo a instituição financeira",
          "Norte/Roubo a instituição financeira",
          "Sudeste/Roubo a instituição financeira",
          "Sul/Roubo a instituição financeira",
          "Centro-Oeste/Roubo de carga",
          "Nordeste/Roubo de carga",
          "Norte/Roubo de carga",
          "Sudeste/Roubo de carga",
          "Sul/Roubo de carga",
          "Centro-Oeste/Roubo de veículo",
          "Nordeste/Roubo de veículo",
          "Norte/Roubo de veículo",
          "Sudeste/Roubo de veículo",
          "Sul/Roubo de veículo",
          "Centro-Oeste/Roubo seguido de morte (latrocínio)",
          "Nordeste/Roubo seguido de morte (latrocínio)",
          "Norte/Roubo seguido de morte (latrocínio)",
          "Sudeste/Roubo seguido de morte (latrocínio)",
          "Sul/Roubo seguido de morte (latrocínio)",
          "Centro-Oeste/Tentativa de homicídio",
          "Nordeste/Tentativa de homicídio",
          "Norte/Tentativa de homicídio",
          "Sudeste/Tentativa de homicídio",
          "Sul/Tentativa de homicídio",
          "Centro-Oeste",
          "Nordeste",
          "Norte",
          "Sudeste",
          "Sul"
         ],
         "labels": [
          "Estupro",
          "Estupro",
          "Estupro",
          "Estupro",
          "Estupro",
          "Furto de veículo",
          "Furto de veículo",
          "Furto de veículo",
          "Furto de veículo",
          "Furto de veículo",
          "Homicídio doloso",
          "Homicídio doloso",
          "Homicídio doloso",
          "Homicídio doloso",
          "Homicídio doloso",
          "Lesão corporal seguida de morte",
          "Lesão corporal seguida de morte",
          "Lesão corporal seguida de morte",
          "Lesão corporal seguida de morte",
          "Lesão corporal seguida de morte",
          "Roubo a instituição financeira",
          "Roubo a instituição financeira",
          "Roubo a instituição financeira",
          "Roubo a instituição financeira",
          "Roubo a instituição financeira",
          "Roubo de carga",
          "Roubo de carga",
          "Roubo de carga",
          "Roubo de carga",
          "Roubo de carga",
          "Roubo de veículo",
          "Roubo de veículo",
          "Roubo de veículo",
          "Roubo de veículo",
          "Roubo de veículo",
          "Roubo seguido de morte (latrocínio)",
          "Roubo seguido de morte (latrocínio)",
          "Roubo seguido de morte (latrocínio)",
          "Roubo seguido de morte (latrocínio)",
          "Roubo seguido de morte (latrocínio)",
          "Tentativa de homicídio",
          "Tentativa de homicídio",
          "Tentativa de homicídio",
          "Tentativa de homicídio",
          "Tentativa de homicídio",
          "Centro-Oeste",
          "Nordeste",
          "Norte",
          "Sudeste",
          "Sul"
         ],
         "name": "",
         "parents": [
          "Centro-Oeste",
          "Nordeste",
          "Norte",
          "Sudeste",
          "Sul",
          "Centro-Oeste",
          "Nordeste",
          "Norte",
          "Sudeste",
          "Sul",
          "Centro-Oeste",
          "Nordeste",
          "Norte",
          "Sudeste",
          "Sul",
          "Centro-Oeste",
          "Nordeste",
          "Norte",
          "Sudeste",
          "Sul",
          "Centro-Oeste",
          "Nordeste",
          "Norte",
          "Sudeste",
          "Sul",
          "Centro-Oeste",
          "Nordeste",
          "Norte",
          "Sudeste",
          "Sul",
          "Centro-Oeste",
          "Nordeste",
          "Norte",
          "Sudeste",
          "Sul",
          "Centro-Oeste",
          "Nordeste",
          "Norte",
          "Sudeste",
          "Sul",
          "Centro-Oeste",
          "Nordeste",
          "Norte",
          "Sudeste",
          "Sul",
          "",
          "",
          "",
          "",
          ""
         ],
         "type": "sunburst",
         "values": [
          48076,
          102752,
          66339,
          42611,
          35587,
          196670,
          508953,
          239364,
          267377,
          232504,
          36046,
          101498,
          61288,
          47557,
          33013,
          794,
          1925,
          1088,
          709,
          473,
          489,
          1753,
          680,
          1248,
          705,
          17533,
          47772,
          14492,
          19230,
          22723,
          188280,
          530992,
          191367,
          233812,
          209799,
          1368,
          4546,
          2048,
          2112,
          1605,
          30128,
          78940,
          48667,
          42032,
          27939,
          519384,
          1379131,
          625333,
          656688,
          564348
         ]
        }
       ],
       "layout": {
        "autosize": true,
        "legend": {
         "tracegroupgap": 0
        },
        "margin": {
         "t": 60
        },
        "template": {
         "data": {
          "bar": [
           {
            "error_x": {
             "color": "#2a3f5f"
            },
            "error_y": {
             "color": "#2a3f5f"
            },
            "marker": {
             "line": {
              "color": "#E5ECF6",
              "width": 0.5
             },
             "pattern": {
              "fillmode": "overlay",
              "size": 10,
              "solidity": 0.2
             }
            },
            "type": "bar"
           }
          ],
          "barpolar": [
           {
            "marker": {
             "line": {
              "color": "#E5ECF6",
              "width": 0.5
             },
             "pattern": {
              "fillmode": "overlay",
              "size": 10,
              "solidity": 0.2
             }
            },
            "type": "barpolar"
           }
          ],
          "carpet": [
           {
            "aaxis": {
             "endlinecolor": "#2a3f5f",
             "gridcolor": "white",
             "linecolor": "white",
             "minorgridcolor": "white",
             "startlinecolor": "#2a3f5f"
            },
            "baxis": {
             "endlinecolor": "#2a3f5f",
             "gridcolor": "white",
             "linecolor": "white",
             "minorgridcolor": "white",
             "startlinecolor": "#2a3f5f"
            },
            "type": "carpet"
           }
          ],
          "choropleth": [
           {
            "colorbar": {
             "outlinewidth": 0,
             "ticks": ""
            },
            "type": "choropleth"
           }
          ],
          "contour": [
           {
            "colorbar": {
             "outlinewidth": 0,
             "ticks": ""
            },
            "colorscale": [
             [
              0,
              "#0d0887"
             ],
             [
              0.1111111111111111,
              "#46039f"
             ],
             [
              0.2222222222222222,
              "#7201a8"
             ],
             [
              0.3333333333333333,
              "#9c179e"
             ],
             [
              0.4444444444444444,
              "#bd3786"
             ],
             [
              0.5555555555555556,
              "#d8576b"
             ],
             [
              0.6666666666666666,
              "#ed7953"
             ],
             [
              0.7777777777777778,
              "#fb9f3a"
             ],
             [
              0.8888888888888888,
              "#fdca26"
             ],
             [
              1,
              "#f0f921"
             ]
            ],
            "type": "contour"
           }
          ],
          "contourcarpet": [
           {
            "colorbar": {
             "outlinewidth": 0,
             "ticks": ""
            },
            "type": "contourcarpet"
           }
          ],
          "heatmap": [
           {
            "colorbar": {
             "outlinewidth": 0,
             "ticks": ""
            },
            "colorscale": [
             [
              0,
              "#0d0887"
             ],
             [
              0.1111111111111111,
              "#46039f"
             ],
             [
              0.2222222222222222,
              "#7201a8"
             ],
             [
              0.3333333333333333,
              "#9c179e"
             ],
             [
              0.4444444444444444,
              "#bd3786"
             ],
             [
              0.5555555555555556,
              "#d8576b"
             ],
             [
              0.6666666666666666,
              "#ed7953"
             ],
             [
              0.7777777777777778,
              "#fb9f3a"
             ],
             [
              0.8888888888888888,
              "#fdca26"
             ],
             [
              1,
              "#f0f921"
             ]
            ],
            "type": "heatmap"
           }
          ],
          "heatmapgl": [
           {
            "colorbar": {
             "outlinewidth": 0,
             "ticks": ""
            },
            "colorscale": [
             [
              0,
              "#0d0887"
             ],
             [
              0.1111111111111111,
              "#46039f"
             ],
             [
              0.2222222222222222,
              "#7201a8"
             ],
             [
              0.3333333333333333,
              "#9c179e"
             ],
             [
              0.4444444444444444,
              "#bd3786"
             ],
             [
              0.5555555555555556,
              "#d8576b"
             ],
             [
              0.6666666666666666,
              "#ed7953"
             ],
             [
              0.7777777777777778,
              "#fb9f3a"
             ],
             [
              0.8888888888888888,
              "#fdca26"
             ],
             [
              1,
              "#f0f921"
             ]
            ],
            "type": "heatmapgl"
           }
          ],
          "histogram": [
           {
            "marker": {
             "pattern": {
              "fillmode": "overlay",
              "size": 10,
              "solidity": 0.2
             }
            },
            "type": "histogram"
           }
          ],
          "histogram2d": [
           {
            "colorbar": {
             "outlinewidth": 0,
             "ticks": ""
            },
            "colorscale": [
             [
              0,
              "#0d0887"
             ],
             [
              0.1111111111111111,
              "#46039f"
             ],
             [
              0.2222222222222222,
              "#7201a8"
             ],
             [
              0.3333333333333333,
              "#9c179e"
             ],
             [
              0.4444444444444444,
              "#bd3786"
             ],
             [
              0.5555555555555556,
              "#d8576b"
             ],
             [
              0.6666666666666666,
              "#ed7953"
             ],
             [
              0.7777777777777778,
              "#fb9f3a"
             ],
             [
              0.8888888888888888,
              "#fdca26"
             ],
             [
              1,
              "#f0f921"
             ]
            ],
            "type": "histogram2d"
           }
          ],
          "histogram2dcontour": [
           {
            "colorbar": {
             "outlinewidth": 0,
             "ticks": ""
            },
            "colorscale": [
             [
              0,
              "#0d0887"
             ],
             [
              0.1111111111111111,
              "#46039f"
             ],
             [
              0.2222222222222222,
              "#7201a8"
             ],
             [
              0.3333333333333333,
              "#9c179e"
             ],
             [
              0.4444444444444444,
              "#bd3786"
             ],
             [
              0.5555555555555556,
              "#d8576b"
             ],
             [
              0.6666666666666666,
              "#ed7953"
             ],
             [
              0.7777777777777778,
              "#fb9f3a"
             ],
             [
              0.8888888888888888,
              "#fdca26"
             ],
             [
              1,
              "#f0f921"
             ]
            ],
            "type": "histogram2dcontour"
           }
          ],
          "mesh3d": [
           {
            "colorbar": {
             "outlinewidth": 0,
             "ticks": ""
            },
            "type": "mesh3d"
           }
          ],
          "parcoords": [
           {
            "line": {
             "colorbar": {
              "outlinewidth": 0,
              "ticks": ""
             }
            },
            "type": "parcoords"
           }
          ],
          "pie": [
           {
            "automargin": true,
            "type": "pie"
           }
          ],
          "scatter": [
           {
            "marker": {
             "colorbar": {
              "outlinewidth": 0,
              "ticks": ""
             }
            },
            "type": "scatter"
           }
          ],
          "scatter3d": [
           {
            "line": {
             "colorbar": {
              "outlinewidth": 0,
              "ticks": ""
             }
            },
            "marker": {
             "colorbar": {
              "outlinewidth": 0,
              "ticks": ""
             }
            },
            "type": "scatter3d"
           }
          ],
          "scattercarpet": [
           {
            "marker": {
             "colorbar": {
              "outlinewidth": 0,
              "ticks": ""
             }
            },
            "type": "scattercarpet"
           }
          ],
          "scattergeo": [
           {
            "marker": {
             "colorbar": {
              "outlinewidth": 0,
              "ticks": ""
             }
            },
            "type": "scattergeo"
           }
          ],
          "scattergl": [
           {
            "marker": {
             "colorbar": {
              "outlinewidth": 0,
              "ticks": ""
             }
            },
            "type": "scattergl"
           }
          ],
          "scattermapbox": [
           {
            "marker": {
             "colorbar": {
              "outlinewidth": 0,
              "ticks": ""
             }
            },
            "type": "scattermapbox"
           }
          ],
          "scatterpolar": [
           {
            "marker": {
             "colorbar": {
              "outlinewidth": 0,
              "ticks": ""
             }
            },
            "type": "scatterpolar"
           }
          ],
          "scatterpolargl": [
           {
            "marker": {
             "colorbar": {
              "outlinewidth": 0,
              "ticks": ""
             }
            },
            "type": "scatterpolargl"
           }
          ],
          "scatterternary": [
           {
            "marker": {
             "colorbar": {
              "outlinewidth": 0,
              "ticks": ""
             }
            },
            "type": "scatterternary"
           }
          ],
          "surface": [
           {
            "colorbar": {
             "outlinewidth": 0,
             "ticks": ""
            },
            "colorscale": [
             [
              0,
              "#0d0887"
             ],
             [
              0.1111111111111111,
              "#46039f"
             ],
             [
              0.2222222222222222,
              "#7201a8"
             ],
             [
              0.3333333333333333,
              "#9c179e"
             ],
             [
              0.4444444444444444,
              "#bd3786"
             ],
             [
              0.5555555555555556,
              "#d8576b"
             ],
             [
              0.6666666666666666,
              "#ed7953"
             ],
             [
              0.7777777777777778,
              "#fb9f3a"
             ],
             [
              0.8888888888888888,
              "#fdca26"
             ],
             [
              1,
              "#f0f921"
             ]
            ],
            "type": "surface"
           }
          ],
          "table": [
           {
            "cells": {
             "fill": {
              "color": "#EBF0F8"
             },
             "line": {
              "color": "white"
             }
            },
            "header": {
             "fill": {
              "color": "#C8D4E3"
             },
             "line": {
              "color": "white"
             }
            },
            "type": "table"
           }
          ]
         },
         "layout": {
          "annotationdefaults": {
           "arrowcolor": "#2a3f5f",
           "arrowhead": 0,
           "arrowwidth": 1
          },
          "autotypenumbers": "strict",
          "coloraxis": {
           "colorbar": {
            "outlinewidth": 0,
            "ticks": ""
           }
          },
          "colorscale": {
           "diverging": [
            [
             0,
             "#8e0152"
            ],
            [
             0.1,
             "#c51b7d"
            ],
            [
             0.2,
             "#de77ae"
            ],
            [
             0.3,
             "#f1b6da"
            ],
            [
             0.4,
             "#fde0ef"
            ],
            [
             0.5,
             "#f7f7f7"
            ],
            [
             0.6,
             "#e6f5d0"
            ],
            [
             0.7,
             "#b8e186"
            ],
            [
             0.8,
             "#7fbc41"
            ],
            [
             0.9,
             "#4d9221"
            ],
            [
             1,
             "#276419"
            ]
           ],
           "sequential": [
            [
             0,
             "#0d0887"
            ],
            [
             0.1111111111111111,
             "#46039f"
            ],
            [
             0.2222222222222222,
             "#7201a8"
            ],
            [
             0.3333333333333333,
             "#9c179e"
            ],
            [
             0.4444444444444444,
             "#bd3786"
            ],
            [
             0.5555555555555556,
             "#d8576b"
            ],
            [
             0.6666666666666666,
             "#ed7953"
            ],
            [
             0.7777777777777778,
             "#fb9f3a"
            ],
            [
             0.8888888888888888,
             "#fdca26"
            ],
            [
             1,
             "#f0f921"
            ]
           ],
           "sequentialminus": [
            [
             0,
             "#0d0887"
            ],
            [
             0.1111111111111111,
             "#46039f"
            ],
            [
             0.2222222222222222,
             "#7201a8"
            ],
            [
             0.3333333333333333,
             "#9c179e"
            ],
            [
             0.4444444444444444,
             "#bd3786"
            ],
            [
             0.5555555555555556,
             "#d8576b"
            ],
            [
             0.6666666666666666,
             "#ed7953"
            ],
            [
             0.7777777777777778,
             "#fb9f3a"
            ],
            [
             0.8888888888888888,
             "#fdca26"
            ],
            [
             1,
             "#f0f921"
            ]
           ]
          },
          "colorway": [
           "#636efa",
           "#EF553B",
           "#00cc96",
           "#ab63fa",
           "#FFA15A",
           "#19d3f3",
           "#FF6692",
           "#B6E880",
           "#FF97FF",
           "#FECB52"
          ],
          "font": {
           "color": "#2a3f5f"
          },
          "geo": {
           "bgcolor": "white",
           "lakecolor": "white",
           "landcolor": "#E5ECF6",
           "showlakes": true,
           "showland": true,
           "subunitcolor": "white"
          },
          "hoverlabel": {
           "align": "left"
          },
          "hovermode": "closest",
          "mapbox": {
           "style": "light"
          },
          "paper_bgcolor": "white",
          "plot_bgcolor": "#E5ECF6",
          "polar": {
           "angularaxis": {
            "gridcolor": "white",
            "linecolor": "white",
            "ticks": ""
           },
           "bgcolor": "#E5ECF6",
           "radialaxis": {
            "gridcolor": "white",
            "linecolor": "white",
            "ticks": ""
           }
          },
          "scene": {
           "xaxis": {
            "backgroundcolor": "#E5ECF6",
            "gridcolor": "white",
            "gridwidth": 2,
            "linecolor": "white",
            "showbackground": true,
            "ticks": "",
            "zerolinecolor": "white"
           },
           "yaxis": {
            "backgroundcolor": "#E5ECF6",
            "gridcolor": "white",
            "gridwidth": 2,
            "linecolor": "white",
            "showbackground": true,
            "ticks": "",
            "zerolinecolor": "white"
           },
           "zaxis": {
            "backgroundcolor": "#E5ECF6",
            "gridcolor": "white",
            "gridwidth": 2,
            "linecolor": "white",
            "showbackground": true,
            "ticks": "",
            "zerolinecolor": "white"
           }
          },
          "shapedefaults": {
           "line": {
            "color": "#2a3f5f"
           }
          },
          "ternary": {
           "aaxis": {
            "gridcolor": "white",
            "linecolor": "white",
            "ticks": ""
           },
           "baxis": {
            "gridcolor": "white",
            "linecolor": "white",
            "ticks": ""
           },
           "bgcolor": "#E5ECF6",
           "caxis": {
            "gridcolor": "white",
            "linecolor": "white",
            "ticks": ""
           }
          },
          "title": {
           "x": 0.05
          },
          "xaxis": {
           "automargin": true,
           "gridcolor": "white",
           "linecolor": "white",
           "ticks": "",
           "title": {
            "standoff": 15
           },
           "zerolinecolor": "white",
           "zerolinewidth": 2
          },
          "yaxis": {
           "automargin": true,
           "gridcolor": "white",
           "linecolor": "white",
           "ticks": "",
           "title": {
            "standoff": 15
           },
           "zerolinecolor": "white",
           "zerolinewidth": 2
          }
         }
        },
        "title": {
         "text": "Crimes no Brasil entre 2015 e 2020"
        }
       }
      },
      "image/png": "[encoded data removed]",
      "text/html": [
       "<div>                            <div id=\"75a450b4-d9f1-4741-ac40-d1aff60b9c18\" class=\"plotly-graph-div\" style=\"height:500px; width:100%;\"></div>            <script type=\"text/javascript\">                require([\"plotly\"], function(Plotly) {                    window.PLOTLYENV=window.PLOTLYENV || {};                                    if (document.getElementById(\"75a450b4-d9f1-4741-ac40-d1aff60b9c18\")) {                    Plotly.newPlot(                        \"75a450b4-d9f1-4741-ac40-d1aff60b9c18\",                        [{\"branchvalues\":\"total\",\"domain\":{\"x\":[0.0,1.0],\"y\":[0.0,1.0]},\"hovertemplate\":\"labels=%{label}<br>ocorrencias=%{value}<br>parent=%{parent}<br>id=%{id}<extra></extra>\",\"ids\":[\"Centro-Oeste/Estupro\",\"Nordeste/Estupro\",\"Norte/Estupro\",\"Sudeste/Estupro\",\"Sul/Estupro\",\"Centro-Oeste/Furto de ve\\u00edculo\",\"Nordeste/Furto de ve\\u00edculo\",\"Norte/Furto de ve\\u00edculo\",\"Sudeste/Furto de ve\\u00edculo\",\"Sul/Furto de ve\\u00edculo\",\"Centro-Oeste/Homic\\u00eddio doloso\",\"Nordeste/Homic\\u00eddio doloso\",\"Norte/Homic\\u00eddio doloso\",\"Sudeste/Homic\\u00eddio doloso\",\"Sul/Homic\\u00eddio doloso\",\"Centro-Oeste/Les\\u00e3o corporal seguida de morte\",\"Nordeste/Les\\u00e3o corporal seguida de morte\",\"Norte/Les\\u00e3o corporal seguida de morte\",\"Sudeste/Les\\u00e3o corporal seguida de morte\",\"Sul/Les\\u00e3o corporal seguida de morte\",\"Centro-Oeste/Roubo a institui\\u00e7\\u00e3o financeira\",\"Nordeste/Roubo a institui\\u00e7\\u00e3o financeira\",\"Norte/Roubo a institui\\u00e7\\u00e3o financeira\",\"Sudeste/Roubo a institui\\u00e7\\u00e3o financeira\",\"Sul/Roubo a institui\\u00e7\\u00e3o financeira\",\"Centro-Oeste/Roubo de carga\",\"Nordeste/Roubo de carga\",\"Norte/Roubo de carga\",\"Sudeste/Roubo de carga\",\"Sul/Roubo de carga\",\"Centro-Oeste/Roubo de ve\\u00edculo\",\"Nordeste/Roubo de ve\\u00edculo\",\"Norte/Roubo de ve\\u00edculo\",\"Sudeste/Roubo de ve\\u00edculo\",\"Sul/Roubo de ve\\u00edculo\",\"Centro-Oeste/Roubo seguido de morte (latroc\\u00ednio)\",\"Nordeste/Roubo seguido de morte (latroc\\u00ednio)\",\"Norte/Roubo seguido de morte (latroc\\u00ednio)\",\"Sudeste/Roubo seguido de morte (latroc\\u00ednio)\",\"Sul/Roubo seguido de morte (latroc\\u00ednio)\",\"Centro-Oeste/Tentativa de homic\\u00eddio\",\"Nordeste/Tentativa de homic\\u00eddio\",\"Norte/Tentativa de homic\\u00eddio\",\"Sudeste/Tentativa de homic\\u00eddio\",\"Sul/Tentativa de homic\\u00eddio\",\"Centro-Oeste\",\"Nordeste\",\"Norte\",\"Sudeste\",\"Sul\"],\"labels\":[\"Estupro\",\"Estupro\",\"Estupro\",\"Estupro\",\"Estupro\",\"Furto de ve\\u00edculo\",\"Furto de ve\\u00edculo\",\"Furto de ve\\u00edculo\",\"Furto de ve\\u00edculo\",\"Furto de ve\\u00edculo\",\"Homic\\u00eddio doloso\",\"Homic\\u00eddio doloso\",\"Homic\\u00eddio doloso\",\"Homic\\u00eddio doloso\",\"Homic\\u00eddio doloso\",\"Les\\u00e3o corporal seguida de morte\",\"Les\\u00e3o corporal seguida de morte\",\"Les\\u00e3o corporal seguida de morte\",\"Les\\u00e3o corporal seguida de morte\",\"Les\\u00e3o corporal seguida de morte\",\"Roubo a institui\\u00e7\\u00e3o financeira\",\"Roubo a institui\\u00e7\\u00e3o financeira\",\"Roubo a institui\\u00e7\\u00e3o financeira\",\"Roubo a institui\\u00e7\\u00e3o financeira\",\"Roubo a institui\\u00e7\\u00e3o financeira\",\"Roubo de carga\",\"Roubo de carga\",\"Roubo de carga\",\"Roubo de carga\",\"Roubo de carga\",\"Roubo de ve\\u00edculo\",\"Roubo de ve\\u00edculo\",\"Roubo de ve\\u00edculo\",\"Roubo de ve\\u00edculo\",\"Roubo de ve\\u00edculo\",\"Roubo seguido de morte (latroc\\u00ednio)\",\"Roubo seguido de morte (latroc\\u00ednio)\",\"Roubo seguido de morte (latroc\\u00ednio)\",\"Roubo seguido de morte (latroc\\u00ednio)\",\"Roubo seguido de morte (latroc\\u00ednio)\",\"Tentativa de homic\\u00eddio\",\"Tentativa de homic\\u00eddio\",\"Tentativa de homic\\u00eddio\",\"Tentativa de homic\\u00eddio\",\"Tentativa de homic\\u00eddio\",\"Centro-Oeste\",\"Nordeste\",\"Norte\",\"Sudeste\",\"Sul\"],\"name\":\"\",\"parents\":[\"Centro-Oeste\",\"Nordeste\",\"Norte\",\"Sudeste\",\"Sul\",\"Centro-Oeste\",\"Nordeste\",\"Norte\",\"Sudeste\",\"Sul\",\"Centro-Oeste\",\"Nordeste\",\"Norte\",\"Sudeste\",\"Sul\",\"Centro-Oeste\",\"Nordeste\",\"Norte\",\"Sudeste\",\"Sul\",\"Centro-Oeste\",\"Nordeste\",\"Norte\",\"Sudeste\",\"Sul\",\"Centro-Oeste\",\"Nordeste\",\"Norte\",\"Sudeste\",\"Sul\",\"Centro-Oeste\",\"Nordeste\",\"Norte\",\"Sudeste\",\"Sul\",\"Centro-Oeste\",\"Nordeste\",\"Norte\",\"Sudeste\",\"Sul\",\"Centro-Oeste\",\"Nordeste\",\"Norte\",\"Sudeste\",\"Sul\",\"\",\"\",\"\",\"\",\"\"],\"type\":\"sunburst\",\"values\":[48076.0,102752.0,66339.0,42611.0,35587.0,196670.0,508953.0,239364.0,267377.0,232504.0,36046.0,101498.0,61288.0,47557.0,33013.0,794.0,1925.0,1088.0,709.0,473.0,489.0,1753.0,680.0,1248.0,705.0,17533.0,47772.0,14492.0,19230.0,22723.0,188280.0,530992.0,191367.0,233812.0,209799.0,1368.0,4546.0,2048.0,2112.0,1605.0,30128.0,78940.0,48667.0,42032.0,27939.0,519384.0,1379131.0,625333.0,656688.0,564348.0]}],                        {\"height\":500,\"legend\":{\"tracegroupgap\":0},\"margin\":{\"t\":60},\"template\":{\"data\":{\"bar\":[{\"error_x\":{\"color\":\"#2a3f5f\"},\"error_y\":{\"color\":\"#2a3f5f\"},\"marker\":{\"line\":{\"color\":\"#E5ECF6\",\"width\":0.5},\"pattern\":{\"fillmode\":\"overlay\",\"size\":10,\"solidity\":0.2}},\"type\":\"bar\"}],\"barpolar\":[{\"marker\":{\"line\":{\"color\":\"#E5ECF6\",\"width\":0.5},\"pattern\":{\"fillmode\":\"overlay\",\"size\":10,\"solidity\":0.2}},\"type\":\"barpolar\"}],\"carpet\":[{\"aaxis\":{\"endlinecolor\":\"#2a3f5f\",\"gridcolor\":\"white\",\"linecolor\":\"white\",\"minorgridcolor\":\"white\",\"startlinecolor\":\"#2a3f5f\"},\"baxis\":{\"endlinecolor\":\"#2a3f5f\",\"gridcolor\":\"white\",\"linecolor\":\"white\",\"minorgridcolor\":\"white\",\"startlinecolor\":\"#2a3f5f\"},\"type\":\"carpet\"}],\"choropleth\":[{\"colorbar\":{\"outlinewidth\":0,\"ticks\":\"\"},\"type\":\"choropleth\"}],\"contour\":[{\"colorbar\":{\"outlinewidth\":0,\"ticks\":\"\"},\"colorscale\":[[0.0,\"#0d0887\"],[0.1111111111111111,\"#46039f\"],[0.2222222222222222,\"#7201a8\"],[0.3333333333333333,\"#9c179e\"],[0.4444444444444444,\"#bd3786\"],[0.5555555555555556,\"#d8576b\"],[0.6666666666666666,\"#ed7953\"],[0.7777777777777778,\"#fb9f3a\"],[0.8888888888888888,\"#fdca26\"],[1.0,\"#f0f921\"]],\"type\":\"contour\"}],\"contourcarpet\":[{\"colorbar\":{\"outlinewidth\":0,\"ticks\":\"\"},\"type\":\"contourcarpet\"}],\"heatmap\":[{\"colorbar\":{\"outlinewidth\":0,\"ticks\":\"\"},\"colorscale\":[[0.0,\"#0d0887\"],[0.1111111111111111,\"#46039f\"],[0.2222222222222222,\"#7201a8\"],[0.3333333333333333,\"#9c179e\"],[0.4444444444444444,\"#bd3786\"],[0.5555555555555556,\"#d8576b\"],[0.6666666666666666,\"#ed7953\"],[0.7777777777777778,\"#fb9f3a\"],[0.8888888888888888,\"#fdca26\"],[1.0,\"#f0f921\"]],\"type\":\"heatmap\"}],\"heatmapgl\":[{\"colorbar\":{\"outlinewidth\":0,\"ticks\":\"\"},\"colorscale\":[[0.0,\"#0d0887\"],[0.1111111111111111,\"#46039f\"],[0.2222222222222222,\"#7201a8\"],[0.3333333333333333,\"#9c179e\"],[0.4444444444444444,\"#bd3786\"],[0.5555555555555556,\"#d8576b\"],[0.6666666666666666,\"#ed7953\"],[0.7777777777777778,\"#fb9f3a\"],[0.8888888888888888,\"#fdca26\"],[1.0,\"#f0f921\"]],\"type\":\"heatmapgl\"}],\"histogram\":[{\"marker\":{\"pattern\":{\"fillmode\":\"overlay\",\"size\":10,\"solidity\":0.2}},\"type\":\"histogram\"}],\"histogram2d\":[{\"colorbar\":{\"outlinewidth\":0,\"ticks\":\"\"},\"colorscale\":[[0.0,\"#0d0887\"],[0.1111111111111111,\"#46039f\"],[0.2222222222222222,\"#7201a8\"],[0.3333333333333333,\"#9c179e\"],[0.4444444444444444,\"#bd3786\"],[0.5555555555555556,\"#d8576b\"],[0.6666666666666666,\"#ed7953\"],[0.7777777777777778,\"#fb9f3a\"],[0.8888888888888888,\"#fdca26\"],[1.0,\"#f0f921\"]],\"type\":\"histogram2d\"}],\"histogram2dcontour\":[{\"colorbar\":{\"outlinewidth\":0,\"ticks\":\"\"},\"colorscale\":[[0.0,\"#0d0887\"],[0.1111111111111111,\"#46039f\"],[0.2222222222222222,\"#7201a8\"],[0.3333333333333333,\"#9c179e\"],[0.4444444444444444,\"#bd3786\"],[0.5555555555555556,\"#d8576b\"],[0.6666666666666666,\"#ed7953\"],[0.7777777777777778,\"#fb9f3a\"],[0.8888888888888888,\"#fdca26\"],[1.0,\"#f0f921\"]],\"type\":\"histogram2dcontour\"}],\"mesh3d\":[{\"colorbar\":{\"outlinewidth\":0,\"ticks\":\"\"},\"type\":\"mesh3d\"}],\"parcoords\":[{\"line\":{\"colorbar\":{\"outlinewidth\":0,\"ticks\":\"\"}},\"type\":\"parcoords\"}],\"pie\":[{\"automargin\":true,\"type\":\"pie\"}],\"scatter\":[{\"marker\":{\"colorbar\":{\"outlinewidth\":0,\"ticks\":\"\"}},\"type\":\"scatter\"}],\"scatter3d\":[{\"line\":{\"colorbar\":{\"outlinewidth\":0,\"ticks\":\"\"}},\"marker\":{\"colorbar\":{\"outlinewidth\":0,\"ticks\":\"\"}},\"type\":\"scatter3d\"}],\"scattercarpet\":[{\"marker\":{\"colorbar\":{\"outlinewidth\":0,\"ticks\":\"\"}},\"type\":\"scattercarpet\"}],\"scattergeo\":[{\"marker\":{\"colorbar\":{\"outlinewidth\":0,\"ticks\":\"\"}},\"type\":\"scattergeo\"}],\"scattergl\":[{\"marker\":{\"colorbar\":{\"outlinewidth\":0,\"ticks\":\"\"}},\"type\":\"scattergl\"}],\"scattermapbox\":[{\"marker\":{\"colorbar\":{\"outlinewidth\":0,\"ticks\":\"\"}},\"type\":\"scattermapbox\"}],\"scatterpolar\":[{\"marker\":{\"colorbar\":{\"outlinewidth\":0,\"ticks\":\"\"}},\"type\":\"scatterpolar\"}],\"scatterpolargl\":[{\"marker\":{\"colorbar\":{\"outlinewidth\":0,\"ticks\":\"\"}},\"type\":\"scatterpolargl\"}],\"scatterternary\":[{\"marker\":{\"colorbar\":{\"outlinewidth\":0,\"ticks\":\"\"}},\"type\":\"scatterternary\"}],\"surface\":[{\"colorbar\":{\"outlinewidth\":0,\"ticks\":\"\"},\"colorscale\":[[0.0,\"#0d0887\"],[0.1111111111111111,\"#46039f\"],[0.2222222222222222,\"#7201a8\"],[0.3333333333333333,\"#9c179e\"],[0.4444444444444444,\"#bd3786\"],[0.5555555555555556,\"#d8576b\"],[0.6666666666666666,\"#ed7953\"],[0.7777777777777778,\"#fb9f3a\"],[0.8888888888888888,\"#fdca26\"],[1.0,\"#f0f921\"]],\"type\":\"surface\"}],\"table\":[{\"cells\":{\"fill\":{\"color\":\"#EBF0F8\"},\"line\":{\"color\":\"white\"}},\"header\":{\"fill\":{\"color\":\"#C8D4E3\"},\"line\":{\"color\":\"white\"}},\"type\":\"table\"}]},\"layout\":{\"annotationdefaults\":{\"arrowcolor\":\"#2a3f5f\",\"arrowhead\":0,\"arrowwidth\":1},\"autotypenumbers\":\"strict\",\"coloraxis\":{\"colorbar\":{\"outlinewidth\":0,\"ticks\":\"\"}},\"colorscale\":{\"diverging\":[[0,\"#8e0152\"],[0.1,\"#c51b7d\"],[0.2,\"#de77ae\"],[0.3,\"#f1b6da\"],[0.4,\"#fde0ef\"],[0.5,\"#f7f7f7\"],[0.6,\"#e6f5d0\"],[0.7,\"#b8e186\"],[0.8,\"#7fbc41\"],[0.9,\"#4d9221\"],[1,\"#276419\"]],\"sequential\":[[0.0,\"#0d0887\"],[0.1111111111111111,\"#46039f\"],[0.2222222222222222,\"#7201a8\"],[0.3333333333333333,\"#9c179e\"],[0.4444444444444444,\"#bd3786\"],[0.5555555555555556,\"#d8576b\"],[0.6666666666666666,\"#ed7953\"],[0.7777777777777778,\"#fb9f3a\"],[0.8888888888888888,\"#fdca26\"],[1.0,\"#f0f921\"]],\"sequentialminus\":[[0.0,\"#0d0887\"],[0.1111111111111111,\"#46039f\"],[0.2222222222222222,\"#7201a8\"],[0.3333333333333333,\"#9c179e\"],[0.4444444444444444,\"#bd3786\"],[0.5555555555555556,\"#d8576b\"],[0.6666666666666666,\"#ed7953\"],[0.7777777777777778,\"#fb9f3a\"],[0.8888888888888888,\"#fdca26\"],[1.0,\"#f0f921\"]]},\"colorway\":[\"#636efa\",\"#EF553B\",\"#00cc96\",\"#ab63fa\",\"#FFA15A\",\"#19d3f3\",\"#FF6692\",\"#B6E880\",\"#FF97FF\",\"#FECB52\"],\"font\":{\"color\":\"#2a3f5f\"},\"geo\":{\"bgcolor\":\"white\",\"lakecolor\":\"white\",\"landcolor\":\"#E5ECF6\",\"showlakes\":true,\"showland\":true,\"subunitcolor\":\"white\"},\"hoverlabel\":{\"align\":\"left\"},\"hovermode\":\"closest\",\"mapbox\":{\"style\":\"light\"},\"paper_bgcolor\":\"white\",\"plot_bgcolor\":\"#E5ECF6\",\"polar\":{\"angularaxis\":{\"gridcolor\":\"white\",\"linecolor\":\"white\",\"ticks\":\"\"},\"bgcolor\":\"#E5ECF6\",\"radialaxis\":{\"gridcolor\":\"white\",\"linecolor\":\"white\",\"ticks\":\"\"}},\"scene\":{\"xaxis\":{\"backgroundcolor\":\"#E5ECF6\",\"gridcolor\":\"white\",\"gridwidth\":2,\"linecolor\":\"white\",\"showbackground\":true,\"ticks\":\"\",\"zerolinecolor\":\"white\"},\"yaxis\":{\"backgroundcolor\":\"#E5ECF6\",\"gridcolor\":\"white\",\"gridwidth\":2,\"linecolor\":\"white\",\"showbackground\":true,\"ticks\":\"\",\"zerolinecolor\":\"white\"},\"zaxis\":{\"backgroundcolor\":\"#E5ECF6\",\"gridcolor\":\"white\",\"gridwidth\":2,\"linecolor\":\"white\",\"showbackground\":true,\"ticks\":\"\",\"zerolinecolor\":\"white\"}},\"shapedefaults\":{\"line\":{\"color\":\"#2a3f5f\"}},\"ternary\":{\"aaxis\":{\"gridcolor\":\"white\",\"linecolor\":\"white\",\"ticks\":\"\"},\"baxis\":{\"gridcolor\":\"white\",\"linecolor\":\"white\",\"ticks\":\"\"},\"bgcolor\":\"#E5ECF6\",\"caxis\":{\"gridcolor\":\"white\",\"linecolor\":\"white\",\"ticks\":\"\"}},\"title\":{\"x\":0.05},\"xaxis\":{\"automargin\":true,\"gridcolor\":\"white\",\"linecolor\":\"white\",\"ticks\":\"\",\"title\":{\"standoff\":15},\"zerolinecolor\":\"white\",\"zerolinewidth\":2},\"yaxis\":{\"automargin\":true,\"gridcolor\":\"white\",\"linecolor\":\"white\",\"ticks\":\"\",\"title\":{\"standoff\":15},\"zerolinecolor\":\"white\",\"zerolinewidth\":2}}},\"title\":{\"text\":\"Crimes no Brasil entre 2015 e 2020\"}},                        {\"responsive\": true}                    ).then(function(){\n",
       "                            \n",
       "var gd = document.getElementById('75a450b4-d9f1-4741-ac40-d1aff60b9c18');\n",
       "var x = new MutationObserver(function (mutations, observer) {{\n",
       "        var display = window.getComputedStyle(gd).display;\n",
       "        if (!display || display === 'none') {{\n",
       "            console.log([gd, 'removed!']);\n",
       "            Plotly.purge(gd);\n",
       "            observer.disconnect();\n",
       "        }}\n",
       "}});\n",
       "\n",
       "// Listen for the removal of the full notebook cells\n",
       "var notebookContainer = gd.closest('#notebook-container');\n",
       "if (notebookContainer) {{\n",
       "    x.observe(notebookContainer, {childList: true});\n",
       "}}\n",
       "\n",
       "// Listen for the clearing of the current output cell\n",
       "var outputEl = gd.closest('.output');\n",
       "if (outputEl) {{\n",
       "    x.observe(outputEl, {childList: true});\n",
       "}}\n",
       "\n",
       "                        })                };                });            </script>        </div>"
      ]
     },
     "metadata": {},
     "output_type": "display_data"
    }
   ],
   "source": [
    "# grafico\n",
    "\n",
    "df = dict(regioes=regiao, crimes=crime, ocorrencias=ocorrencias) #informações que estarão no gráfico\n",
    "\n",
    "#as ocorrencias são os valores tanto das regiões, quanto dos crimes\n",
    "#o path é utilizado para atribuir os valores (as ocorrencias) para 'regioes' e 'crimes'\n",
    "\n",
    "fig = px.sunburst(df, path=['regioes', 'crimes'], values='ocorrencias')\n",
    "\n",
    "fig.update_layout(\n",
    "    height = 500, #tamanho do gráfico em px\n",
    "    title =  {\"text\": \"Crimes no Brasil entre 2015 e 2020\"} #título\n",
    ")\n",
    "\n",
    "fig\n",
    "#pag = dash.Dash()\n",
    "\n",
    "#pag.layout = html.Div([\n",
    "#    html.H1('Crimes Brasil 2015 - 2020'),\n",
    "#    html.Br(),\n",
    "#    dcc.Graph(figure = fig)\n",
    "#])\n",
    "\n",
    "#pag.run_server(use_reloader = False, debug = True)"
   ]
  },
  {
   "cell_type": "code",
   "execution_count": null,
   "metadata": {},
   "outputs": [],
   "source": []
  }
 ],
 "metadata": {
  "interpreter": {
   "hash": "c8317088c9d1caa5d44f9d21ab888dd4bc666910278ba9f9d72b7e49320ed2d5"
  },
  "kernelspec": {
   "display_name": "Python 3 (ipykernel)",
   "language": "python",
   "name": "python3"
  },
  "language_info": {
   "codemirror_mode": {
    "name": "ipython",
    "version": 3
   },
   "file_extension": ".py",
   "mimetype": "text/x-python",
   "name": "python",
   "nbconvert_exporter": "python",
   "pygments_lexer": "ipython3",
   "version": "3.7.8"
  }
 },
 "nbformat": 4,
 "nbformat_minor": 4
}
