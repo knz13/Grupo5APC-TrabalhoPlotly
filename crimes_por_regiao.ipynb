{
 "cells": [
  {
   "cell_type": "markdown",
   "source": [
    "Gráfico de crimes por região\r\n",
    "\r\n",
    "Por: Ana Letícia e Guilherme de Sá"
   ],
   "metadata": {}
  },
  {
   "cell_type": "code",
   "execution_count": null,
   "source": [
    "# importando as bibliotecas\r\n",
    "import plotly.express as px\r\n",
    "import pandas as pd\r\n",
    "# bibliotecas que só serão usadas na próxima avaliação \r\n",
    "import dash\r\n",
    "from dash import dcc\r\n",
    "from dash import html\r\n",
    "# criando os data frames \r\n",
    "df1 = pd.read_excel(\"indicadoressegurancapublicauf.xlsx\")\r\n",
    "df2 = pd.read_csv(\"regioesbrasileiras.csv\", sep=\";\")\r\n",
    "\r\n",
    "# transformando os data frames em listas\r\n",
    "data1 = df1.values.tolist()\r\n",
    "data2 = df2.values.tolist()"
   ],
   "outputs": [],
   "metadata": {}
  },
  {
   "cell_type": "code",
   "execution_count": null,
   "source": [
    "df1"
   ],
   "outputs": [],
   "metadata": {}
  },
  {
   "cell_type": "code",
   "execution_count": null,
   "source": [
    "crime = []\r\n",
    "ocorrencias = []\r\n",
    "\r\n",
    "# coloca os elementos anteriores a 2021 em listas por categoria\r\n",
    "for linha in data1:\r\n",
    "    if linha[2] != 2021: # linha[2] = ano   \r\n",
    "        crime.append(linha[1]) # linha[1] = crime\r\n",
    "        ocorrencias.append(linha[4]) # linha[4] = ocorrencia"
   ],
   "outputs": [],
   "metadata": {}
  },
  {
   "cell_type": "code",
   "execution_count": null,
   "source": [
    "df1 "
   ],
   "outputs": [],
   "metadata": {}
  },
  {
   "cell_type": "code",
   "execution_count": null,
   "source": [
    "#criando uma tabela com a região\r\n",
    "regiao = []\r\n",
    "for c in range (0,len(data2)): #percorrendo o data2\r\n",
    "    for d in range (0,len(data1)): #percorrendo o data1\r\n",
    "        if data1[d][2] != 2021: # o d corresponde a coluna, data1[d][2] = ano\r\n",
    "            if data2[c][1] == data1[d][0]: #comparando o nome do estado no data2 com o nome do estado no data1\r\n",
    "                regiao.append(data2[c][0]) # adiciona na lista 'regiao' o nome da região correspondente àquele estado"
   ],
   "outputs": [],
   "metadata": {}
  },
  {
   "cell_type": "code",
   "execution_count": null,
   "source": [
    "regiao"
   ],
   "outputs": [],
   "metadata": {}
  },
  {
   "cell_type": "code",
   "execution_count": null,
   "source": [
    "# grafico\r\n",
    "\r\n",
    "df = dict(regioes=regiao, crimes=crime, ocorrencias=ocorrencias) #informações que estarão no gráfico\r\n",
    "\r\n",
    "#as ocorrencias são os valores tanto das regiões, quanto dos crimes\r\n",
    "#o path é utilizado para atribuir os valores (as ocorrencias) para 'regioes' e 'crimes'\r\n",
    "\r\n",
    "fig = px.sunburst(df, path=['regioes', 'crimes'], values='ocorrencias')\r\n",
    "\r\n",
    "fig.update_layout(\r\n",
    "    height = 500, #tamanho do gráfico em px\r\n",
    "    title =  {\"text\": \"Crimes no Brasil entre 2015 e 2020\"} #título\r\n",
    ")\r\n",
    "\r\n",
    "#pag = dash.Dash()\r\n",
    "\r\n",
    "#pag.layout = html.Div([\r\n",
    "#    html.H1('Crimes Brasil 2015 - 2020'),\r\n",
    "#    html.Br(),\r\n",
    "#    dcc.Graph(figure = fig)\r\n",
    "#])\r\n",
    "\r\n",
    "#pag.run_server(use_reloader = False, debug = True)"
   ],
   "outputs": [],
   "metadata": {}
  }
 ],
 "metadata": {
  "orig_nbformat": 4,
  "language_info": {
   "name": "python",
   "version": "3.9.6",
   "mimetype": "text/x-python",
   "codemirror_mode": {
    "name": "ipython",
    "version": 3
   },
   "pygments_lexer": "ipython3",
   "nbconvert_exporter": "python",
   "file_extension": ".py"
  },
  "kernelspec": {
   "name": "python3",
   "display_name": "Python 3.9.6 64-bit"
  },
  "interpreter": {
   "hash": "c8317088c9d1caa5d44f9d21ab888dd4bc666910278ba9f9d72b7e49320ed2d5"
  }
 },
 "nbformat": 4,
 "nbformat_minor": 2
}