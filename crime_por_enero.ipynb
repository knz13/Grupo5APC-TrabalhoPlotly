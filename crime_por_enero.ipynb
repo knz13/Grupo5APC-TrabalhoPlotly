{
 "cells": [
  {
   "cell_type": "markdown",
   "metadata": {},
   "source": [
    "Gráfico de Vítimas por gênero dos anos de 2015 a 2020, em todas as regiões nos crimes de Homicídio doloso, Lesão corporal seguida de morte e Latrocínio\n",
    "\n",
    "Por: Larissa e Letícia"
   ]
  },
  {
   "cell_type": "code",
   "execution_count": 1,
   "metadata": {},
   "outputs": [],
   "source": [
    "import plotly.express as px  # essa biblioteca foi escolhida por possuir uma função chamada path\n",
    "import pandas as pandas\n",
    "from plotly.offline import plot"
   ]
  },
  {
   "cell_type": "code",
   "execution_count": 2,
   "metadata": {},
   "outputs": [],
   "source": [
    "data1 = pandas.read_csv(\"vitimas.csv\", sep=\";\")  # ---------- lê a base de dados e armazena na variável\n",
    "data1_array = data1.values  # ---------- lê e armazena cada linha da base de dados como uma lista\n",
    "data2 = pandas.read_csv(\"regioesbrasileiras.csv\", sep=\";\")\n",
    "data2_array = data2.values\n",
    "\n",
    "uf = []\n",
    "crime = []\n",
    "ano = []\n",
    "genero = []\n",
    "vitimas = []\n",
    "regiaos = []\n",
    "ufreg = []"
   ]
  },
  {
   "cell_type": "code",
   "execution_count": 3,
   "metadata": {},
   "outputs": [],
   "source": [
    "\n",
    "# separando cada coluna a ser usada da base de dados em listas\n",
    "# ordem das listas [uf, crime, ano, mês, genero, vitimas]\n",
    "#                   0     1     2    3     4        5\n",
    "for linha in data1_array:\n",
    "    # para não pegar o ano de 2021\n",
    "    if linha[2] != 2021:\n",
    "        uf.append(linha[0])\n",
    "        crime.append(linha[1])\n",
    "        ano.append(linha[2])\n",
    "        genero.append(linha[4])\n",
    "        vitimas.append(linha[5])"
   ]
  },
  {
   "cell_type": "code",
   "execution_count": 4,
   "metadata": {},
   "outputs": [],
   "source": [
    "\n",
    "# separando as regiões e estados respectivos em listas\n",
    "for linha in data2_array:\n",
    "    regiaos.append(linha[0])\n",
    "    ufreg.append(linha[1])"
   ]
  },
  {
   "cell_type": "code",
   "execution_count": 5,
   "metadata": {},
   "outputs": [],
   "source": [
    "\n",
    "# definindo de qual regiao é cada estado da lista uf\n",
    "regiao = []\n",
    "    for estado in uf:  # loop para passar por cada estado da lista uf\n",
    "        count = 0\n",
    "        for estado_reg in ufreg:  # loop para passar por cada estado da lista ufreg\n",
    "            if estado == estado_reg:  # vai comparar se o estado da lista uf é igual ao estado da lista ufreg\n",
    "                regiao.append(regiaos[count])  # se forem iguais, vai adicionar a regiao que esta na mesma posição\n",
    "            count += 1  # que o estado ufreg a uma nova lista contendo todas as regioes,\n",
    "            # a posição na lista esta sendo definida pelo contador\n",
    "\n",
    "ano = list(map(str, ano))  # muda a lista de anos de inteiro para string, pois para o gráfico precisa ser strings\n"
   ]
  },
  {
   "cell_type": "code",
   "execution_count": 6,
   "metadata": {},
   "outputs": [],
   "source": [
    "\n",
    "# mudando alguns itens da lista para nomes menores\n",
    "# percorre os itens da lista, aqueles em que o if for verdadeiro ele troca pelo novo valor informado (informação antes do if)\n",
    "crime = [\"Ls. Cp. sg. Morte\" if value == \"Lesão corporal seguida de morte\" else value for value in crime]\n",
    "crime = [\"Latrocínio\" if value == \"Roubo seguido de morte (latrocínio)\" else value for value in crime]\n",
    "genero = [\"Sexo NI\" if value == \"Não informado\" or value == \"Sem Informação\" else value for value in genero]\n"
   ]
  },
  {
   "cell_type": "code",
   "execution_count": 7,
   "metadata": {},
   "outputs": [],
   "source": [
    "\n",
    "# dicionario do banco de dados a ser usado no gráfico, cada um representa uma lista criada\n",
    "dados = dict(crime=crime, ano=ano, regiao=regiao, genero=genero, vitimas=vitimas)"
   ]
  },
  {
   "cell_type": "code",
   "execution_count": 8,
   "metadata": {},
   "outputs": [
    {
     "data": {
      "application/vnd.plotly.v1+json": {
       "config": {
        "plotlyServerURL": "https://plot.ly"
       },
       "data": [
        {
         "branchvalues": "total",
         "customdata": [
          [
           "2015"
          ],
          [
           "2020"
          ],
          [
           "2020"
          ],
          [
           "2019"
          ],
          [
           "2019"
          ],
          [
           "2019"
          ],
          [
           "2019"
          ],
          [
           "2019"
          ],
          [
           "2019"
          ],
          [
           "2019"
          ],
          [
           "2019"
          ],
          [
           "2019"
          ],
          [
           "2019"
          ],
          [
           "2019"
          ],
          [
           "2019"
          ],
          [
           "2019"
          ],
          [
           "2019"
          ],
          [
           "2019"
          ],
          [
           "2018"
          ],
          [
           "2018"
          ],
          [
           "2020"
          ],
          [
           "2020"
          ],
          [
           "2020"
          ],
          [
           "2020"
          ],
          [
           "2015"
          ],
          [
           "2015"
          ],
          [
           "2015"
          ],
          [
           "2015"
          ],
          [
           "2015"
          ],
          [
           "2015"
          ],
          [
           "2015"
          ],
          [
           "2015"
          ],
          [
           "2015"
          ],
          [
           "2018"
          ],
          [
           "2015"
          ],
          [
           "2020"
          ],
          [
           "2020"
          ],
          [
           "2020"
          ],
          [
           "2020"
          ],
          [
           "2020"
          ],
          [
           "2020"
          ],
          [
           "2020"
          ],
          [
           "2020"
          ],
          [
           "2020"
          ],
          [
           "2015"
          ],
          [
           "2015"
          ],
          [
           "2018"
          ],
          [
           "2018"
          ],
          [
           "2016"
          ],
          [
           "2016"
          ],
          [
           "2016"
          ],
          [
           "2016"
          ],
          [
           "2016"
          ],
          [
           "2016"
          ],
          [
           "2016"
          ],
          [
           "2016"
          ],
          [
           "2016"
          ],
          [
           "2016"
          ],
          [
           "2016"
          ],
          [
           "2016"
          ],
          [
           "2016"
          ],
          [
           "2016"
          ],
          [
           "2016"
          ],
          [
           "2015"
          ],
          [
           "2015"
          ],
          [
           "2015"
          ],
          [
           "2015"
          ],
          [
           "2017"
          ],
          [
           "2017"
          ],
          [
           "2017"
          ],
          [
           "2017"
          ],
          [
           "2018"
          ],
          [
           "2018"
          ],
          [
           "2018"
          ],
          [
           "2018"
          ],
          [
           "2018"
          ],
          [
           "2018"
          ],
          [
           "2018"
          ],
          [
           "2018"
          ],
          [
           "2018"
          ],
          [
           "2018"
          ],
          [
           "2017"
          ],
          [
           "2017"
          ],
          [
           "2017"
          ],
          [
           "2017"
          ],
          [
           "2017"
          ],
          [
           "2017"
          ],
          [
           "2017"
          ],
          [
           "2017"
          ],
          [
           "2017"
          ],
          [
           "2017"
          ],
          [
           "2017"
          ],
          [
           "2015"
          ],
          [
           "2015"
          ],
          [
           "2015"
          ],
          [
           "2020"
          ],
          [
           "2020"
          ],
          [
           "2020"
          ],
          [
           "2020"
          ],
          [
           "2020"
          ],
          [
           "2020"
          ],
          [
           "2020"
          ],
          [
           "2019"
          ],
          [
           "2019"
          ],
          [
           "2019"
          ],
          [
           "2019"
          ],
          [
           "2019"
          ],
          [
           "2019"
          ],
          [
           "2019"
          ],
          [
           "2019"
          ],
          [
           "2019"
          ],
          [
           "2019"
          ],
          [
           "2019"
          ],
          [
           "2019"
          ],
          [
           "2020"
          ],
          [
           "2020"
          ],
          [
           "2020"
          ],
          [
           "2020"
          ],
          [
           "(?)"
          ],
          [
           "(?)"
          ],
          [
           "(?)"
          ],
          [
           "(?)"
          ],
          [
           "(?)"
          ],
          [
           "(?)"
          ],
          [
           "(?)"
          ],
          [
           "(?)"
          ],
          [
           "(?)"
          ],
          [
           "2019"
          ],
          [
           "(?)"
          ],
          [
           "(?)"
          ],
          [
           "(?)"
          ],
          [
           "(?)"
          ],
          [
           "(?)"
          ],
          [
           "(?)"
          ],
          [
           "2020"
          ],
          [
           "2020"
          ],
          [
           "2020"
          ],
          [
           "2020"
          ],
          [
           "(?)"
          ],
          [
           "2019"
          ],
          [
           "2019"
          ],
          [
           "2018"
          ],
          [
           "2017"
          ],
          [
           "2017"
          ],
          [
           "2017"
          ],
          [
           "2017"
          ],
          [
           "2017"
          ],
          [
           "2016"
          ],
          [
           "2016"
          ],
          [
           "2016"
          ],
          [
           "2016"
          ],
          [
           "2017"
          ],
          [
           "2016"
          ],
          [
           "2016"
          ],
          [
           "2016"
          ],
          [
           "2016"
          ],
          [
           "2016"
          ],
          [
           "2016"
          ],
          [
           "2016"
          ],
          [
           "2016"
          ],
          [
           "2016"
          ],
          [
           "2016"
          ],
          [
           "2016"
          ],
          [
           "2015"
          ],
          [
           "2017"
          ],
          [
           "2017"
          ],
          [
           "2018"
          ],
          [
           "2018"
          ],
          [
           "2018"
          ],
          [
           "2018"
          ],
          [
           "2018"
          ],
          [
           "2018"
          ],
          [
           "2018"
          ],
          [
           "2018"
          ],
          [
           "2018"
          ],
          [
           "2017"
          ],
          [
           "2018"
          ],
          [
           "2018"
          ],
          [
           "2018"
          ],
          [
           "2018"
          ],
          [
           "2017"
          ],
          [
           "2017"
          ],
          [
           "2017"
          ],
          [
           "2017"
          ],
          [
           "2017"
          ],
          [
           "2017"
          ],
          [
           "2018"
          ],
          [
           "2015"
          ],
          [
           "2015"
          ],
          [
           "2015"
          ],
          [
           "2019"
          ],
          [
           "2019"
          ],
          [
           "2019"
          ],
          [
           "2019"
          ],
          [
           "2019"
          ],
          [
           "2019"
          ],
          [
           "2019"
          ],
          [
           "2019"
          ],
          [
           "2018"
          ],
          [
           "2018"
          ],
          [
           "2018"
          ],
          [
           "2018"
          ],
          [
           "2018"
          ],
          [
           "2018"
          ],
          [
           "2018"
          ],
          [
           "2018"
          ],
          [
           "2018"
          ],
          [
           "2018"
          ],
          [
           "2018"
          ],
          [
           "2019"
          ],
          [
           "2019"
          ],
          [
           "2019"
          ],
          [
           "2019"
          ],
          [
           "2015"
          ],
          [
           "2015"
          ],
          [
           "2020"
          ],
          [
           "2020"
          ],
          [
           "2020"
          ],
          [
           "2020"
          ],
          [
           "2020"
          ],
          [
           "2020"
          ],
          [
           "2020"
          ],
          [
           "2018"
          ],
          [
           "2020"
          ],
          [
           "2020"
          ],
          [
           "2020"
          ],
          [
           "2020"
          ],
          [
           "2020"
          ],
          [
           "2020"
          ],
          [
           "2020"
          ],
          [
           "2019"
          ],
          [
           "2019"
          ],
          [
           "2019"
          ],
          [
           "2020"
          ],
          [
           "2018"
          ],
          [
           "2018"
          ],
          [
           "2018"
          ],
          [
           "2016"
          ],
          [
           "2016"
          ],
          [
           "2016"
          ],
          [
           "2016"
          ],
          [
           "2016"
          ],
          [
           "2016"
          ],
          [
           "2015"
          ],
          [
           "2015"
          ],
          [
           "2015"
          ],
          [
           "2016"
          ],
          [
           "2015"
          ],
          [
           "2015"
          ],
          [
           "2015"
          ],
          [
           "2015"
          ],
          [
           "2015"
          ],
          [
           "2015"
          ],
          [
           "2015"
          ],
          [
           "2015"
          ],
          [
           "2015"
          ],
          [
           "2015"
          ],
          [
           "2015"
          ],
          [
           "2015"
          ],
          [
           "2016"
          ],
          [
           "2016"
          ],
          [
           "2017"
          ],
          [
           "2017"
          ],
          [
           "2017"
          ],
          [
           "2017"
          ],
          [
           "2017"
          ],
          [
           "2017"
          ],
          [
           "2017"
          ],
          [
           "2017"
          ],
          [
           "2017"
          ],
          [
           "2016"
          ],
          [
           "2017"
          ],
          [
           "2017"
          ],
          [
           "2017"
          ],
          [
           "2017"
          ],
          [
           "2017"
          ],
          [
           "2016"
          ],
          [
           "2016"
          ],
          [
           "2016"
          ],
          [
           "2016"
          ],
          [
           "2016"
          ],
          [
           "2017"
          ],
          [
           "(?)"
          ],
          [
           "2015"
          ],
          [
           "2015"
          ],
          [
           "2019"
          ],
          [
           "2019"
          ],
          [
           "2019"
          ],
          [
           "2019"
          ],
          [
           "2019"
          ],
          [
           "2019"
          ],
          [
           "2019"
          ],
          [
           "2019"
          ],
          [
           "2019"
          ],
          [
           "2019"
          ],
          [
           "2019"
          ],
          [
           "2019"
          ],
          [
           "2019"
          ],
          [
           "2018"
          ],
          [
           "2018"
          ],
          [
           "2018"
          ],
          [
           "2018"
          ],
          [
           "2018"
          ],
          [
           "2018"
          ],
          [
           "2019"
          ],
          [
           "2019"
          ],
          [
           "2020"
          ],
          [
           "2020"
          ],
          [
           "2015"
          ],
          [
           "2015"
          ],
          [
           "2015"
          ],
          [
           "2015"
          ],
          [
           "2015"
          ],
          [
           "2015"
          ],
          [
           "2015"
          ],
          [
           "2020"
          ],
          [
           "2020"
          ],
          [
           "2018"
          ],
          [
           "2020"
          ],
          [
           "2020"
          ],
          [
           "2020"
          ],
          [
           "2020"
          ],
          [
           "2020"
          ],
          [
           "2020"
          ],
          [
           "2020"
          ],
          [
           "2020"
          ],
          [
           "2020"
          ],
          [
           "2020"
          ],
          [
           "2020"
          ],
          [
           "2018"
          ],
          [
           "2018"
          ],
          [
           "2018"
          ],
          [
           "2016"
          ],
          [
           "2016"
          ],
          [
           "2016"
          ],
          [
           "2016"
          ],
          [
           "2016"
          ],
          [
           "2016"
          ],
          [
           "2016"
          ],
          [
           "2016"
          ],
          [
           "2016"
          ],
          [
           "2016"
          ],
          [
           "2016"
          ],
          [
           "2015"
          ],
          [
           "2015"
          ],
          [
           "2015"
          ],
          [
           "2015"
          ],
          [
           "2015"
          ],
          [
           "2015"
          ],
          [
           "2015"
          ],
          [
           "2015"
          ],
          [
           "2015"
          ],
          [
           "2016"
          ],
          [
           "2015"
          ],
          [
           "2016"
          ],
          [
           "2016"
          ],
          [
           "2018"
          ],
          [
           "2018"
          ],
          [
           "2018"
          ],
          [
           "2018"
          ],
          [
           "2018"
          ],
          [
           "2017"
          ],
          [
           "2017"
          ],
          [
           "2017"
          ],
          [
           "2017"
          ],
          [
           "2016"
          ],
          [
           "2017"
          ],
          [
           "2017"
          ],
          [
           "2017"
          ],
          [
           "2017"
          ],
          [
           "2017"
          ],
          [
           "2017"
          ],
          [
           "2017"
          ],
          [
           "2017"
          ],
          [
           "2017"
          ],
          [
           "2017"
          ],
          [
           "2017"
          ],
          [
           "(?)"
          ]
         ],
         "domain": {
          "x": [
           0,
           1
          ],
          "y": [
           0,
           1
          ]
         },
         "hovertemplate": "labels=%{label}<br>vitimas=%{value}<br>parent=%{parent}<br>id=%{id}<br>ano=%{customdata[0]}<extra></extra>",
         "ids": [
          "Homicídio doloso/Centro-Oeste/2015/Feminino",
          "Latrocínio/Centro-Oeste/2020/Sexo NI",
          "Homicídio doloso/Centro-Oeste/2020/Sexo NI",
          "Ls. Cp. sg. Morte/Sul/2019/Sexo NI",
          "Latrocínio/Sul/2019/Sexo NI",
          "Homicídio doloso/Sul/2019/Sexo NI",
          "Ls. Cp. sg. Morte/Sudeste/2019/Sexo NI",
          "Latrocínio/Sudeste/2019/Sexo NI",
          "Homicídio doloso/Sudeste/2019/Sexo NI",
          "Ls. Cp. sg. Morte/Norte/2019/Sexo NI",
          "Latrocínio/Norte/2019/Sexo NI",
          "Homicídio doloso/Norte/2019/Sexo NI",
          "Ls. Cp. sg. Morte/Nordeste/2019/Sexo NI",
          "Latrocínio/Nordeste/2019/Sexo NI",
          "Homicídio doloso/Nordeste/2019/Sexo NI",
          "Ls. Cp. sg. Morte/Centro-Oeste/2019/Sexo NI",
          "Latrocínio/Centro-Oeste/2019/Sexo NI",
          "Homicídio doloso/Centro-Oeste/2019/Sexo NI",
          "Ls. Cp. sg. Morte/Sul/2018/Sexo NI",
          "Latrocínio/Sul/2018/Sexo NI",
          "Ls. Cp. sg. Morte/Centro-Oeste/2020/Sexo NI",
          "Homicídio doloso/Nordeste/2020/Sexo NI",
          "Latrocínio/Nordeste/2020/Sexo NI",
          "Ls. Cp. sg. Morte/Nordeste/2020/Sexo NI",
          "Latrocínio/Sudeste/2015",
          "Homicídio doloso/Sudeste/2015",
          "Ls. Cp. sg. Morte/Norte/2015",
          "Latrocínio/Norte/2015",
          "Homicídio doloso/Norte/2015",
          "Ls. Cp. sg. Morte/Nordeste/2015",
          "Latrocínio/Nordeste/2015",
          "Homicídio doloso/Nordeste/2015",
          "Ls. Cp. sg. Morte/Centro-Oeste/2015",
          "Homicídio doloso/Sul/2018/Sexo NI",
          "Latrocínio/Centro-Oeste/2015",
          "Ls. Cp. sg. Morte/Sul/2020/Sexo NI",
          "Latrocínio/Sul/2020/Sexo NI",
          "Homicídio doloso/Sul/2020/Sexo NI",
          "Ls. Cp. sg. Morte/Sudeste/2020/Sexo NI",
          "Latrocínio/Sudeste/2020/Sexo NI",
          "Homicídio doloso/Sudeste/2020/Sexo NI",
          "Ls. Cp. sg. Morte/Norte/2020/Sexo NI",
          "Latrocínio/Norte/2020/Sexo NI",
          "Homicídio doloso/Norte/2020/Sexo NI",
          "Homicídio doloso/Centro-Oeste/2015",
          "Ls. Cp. sg. Morte/Sudeste/2015",
          "Ls. Cp. sg. Morte/Sudeste/2018/Sexo NI",
          "Homicídio doloso/Sudeste/2018/Sexo NI",
          "Ls. Cp. sg. Morte/Sul/2016/Sexo NI",
          "Latrocínio/Sul/2016/Sexo NI",
          "Homicídio doloso/Sul/2016/Sexo NI",
          "Ls. Cp. sg. Morte/Sudeste/2016/Sexo NI",
          "Latrocínio/Sudeste/2016/Sexo NI",
          "Homicídio doloso/Sudeste/2016/Sexo NI",
          "Ls. Cp. sg. Morte/Norte/2016/Sexo NI",
          "Latrocínio/Norte/2016/Sexo NI",
          "Homicídio doloso/Norte/2016/Sexo NI",
          "Ls. Cp. sg. Morte/Nordeste/2016/Sexo NI",
          "Latrocínio/Nordeste/2016/Sexo NI",
          "Homicídio doloso/Nordeste/2016/Sexo NI",
          "Ls. Cp. sg. Morte/Centro-Oeste/2016/Sexo NI",
          "Latrocínio/Centro-Oeste/2016/Sexo NI",
          "Homicídio doloso/Centro-Oeste/2016/Sexo NI",
          "Ls. Cp. sg. Morte/Sul/2015/Sexo NI",
          "Latrocínio/Sul/2015/Sexo NI",
          "Homicídio doloso/Sul/2015/Sexo NI",
          "Ls. Cp. sg. Morte/Sudeste/2015/Sexo NI",
          "Homicídio doloso/Centro-Oeste/2017/Sexo NI",
          "Latrocínio/Centro-Oeste/2017/Sexo NI",
          "Ls. Cp. sg. Morte/Centro-Oeste/2017/Sexo NI",
          "Homicídio doloso/Nordeste/2017/Sexo NI",
          "Ls. Cp. sg. Morte/Norte/2018/Sexo NI",
          "Latrocínio/Norte/2018/Sexo NI",
          "Homicídio doloso/Norte/2018/Sexo NI",
          "Ls. Cp. sg. Morte/Nordeste/2018/Sexo NI",
          "Latrocínio/Nordeste/2018/Sexo NI",
          "Homicídio doloso/Nordeste/2018/Sexo NI",
          "Ls. Cp. sg. Morte/Centro-Oeste/2018/Sexo NI",
          "Latrocínio/Centro-Oeste/2018/Sexo NI",
          "Homicídio doloso/Centro-Oeste/2018/Sexo NI",
          "Latrocínio/Sudeste/2018/Sexo NI",
          "Ls. Cp. sg. Morte/Sul/2017/Sexo NI",
          "Homicídio doloso/Sul/2017/Sexo NI",
          "Ls. Cp. sg. Morte/Sudeste/2017/Sexo NI",
          "Latrocínio/Sudeste/2017/Sexo NI",
          "Homicídio doloso/Sudeste/2017/Sexo NI",
          "Ls. Cp. sg. Morte/Norte/2017/Sexo NI",
          "Latrocínio/Norte/2017/Sexo NI",
          "Homicídio doloso/Norte/2017/Sexo NI",
          "Ls. Cp. sg. Morte/Nordeste/2017/Sexo NI",
          "Latrocínio/Nordeste/2017/Sexo NI",
          "Latrocínio/Sul/2017/Sexo NI",
          "Homicídio doloso/Sul/2015",
          "Latrocínio/Sul/2015",
          "Ls. Cp. sg. Morte/Sul/2015",
          "Homicídio doloso/Norte/2020",
          "Ls. Cp. sg. Morte/Nordeste/2020",
          "Latrocínio/Nordeste/2020",
          "Homicídio doloso/Nordeste/2020",
          "Ls. Cp. sg. Morte/Centro-Oeste/2020",
          "Latrocínio/Centro-Oeste/2020",
          "Homicídio doloso/Centro-Oeste/2020",
          "Ls. Cp. sg. Morte/Sul/2019",
          "Latrocínio/Sul/2019",
          "Homicídio doloso/Sul/2019",
          "Ls. Cp. sg. Morte/Sudeste/2019",
          "Latrocínio/Sudeste/2019",
          "Homicídio doloso/Sudeste/2019",
          "Ls. Cp. sg. Morte/Norte/2019",
          "Latrocínio/Norte/2019",
          "Homicídio doloso/Norte/2019",
          "Ls. Cp. sg. Morte/Nordeste/2019",
          "Latrocínio/Nordeste/2019",
          "Homicídio doloso/Nordeste/2019",
          "Latrocínio/Norte/2020",
          "Ls. Cp. sg. Morte/Norte/2020",
          "Homicídio doloso/Sudeste/2020",
          "Latrocínio/Sudeste/2020",
          "Homicídio doloso",
          "Ls. Cp. sg. Morte/Sul",
          "Latrocínio/Sul",
          "Homicídio doloso/Sul",
          "Ls. Cp. sg. Morte/Sudeste",
          "Latrocínio/Sudeste",
          "Homicídio doloso/Sudeste",
          "Ls. Cp. sg. Morte/Norte",
          "Latrocínio/Norte",
          "Ls. Cp. sg. Morte/Centro-Oeste/2019",
          "Homicídio doloso/Norte",
          "Latrocínio/Nordeste",
          "Homicídio doloso/Nordeste",
          "Ls. Cp. sg. Morte/Centro-Oeste",
          "Latrocínio/Centro-Oeste",
          "Homicídio doloso/Centro-Oeste",
          "Ls. Cp. sg. Morte/Sul/2020",
          "Latrocínio/Sul/2020",
          "Homicídio doloso/Sul/2020",
          "Ls. Cp. sg. Morte/Sudeste/2020",
          "Ls. Cp. sg. Morte/Nordeste",
          "Latrocínio/Centro-Oeste/2019",
          "Homicídio doloso/Centro-Oeste/2019",
          "Ls. Cp. sg. Morte/Sul/2018",
          "Latrocínio/Nordeste/2017",
          "Homicídio doloso/Nordeste/2017",
          "Ls. Cp. sg. Morte/Centro-Oeste/2017",
          "Latrocínio/Centro-Oeste/2017",
          "Homicídio doloso/Centro-Oeste/2017",
          "Ls. Cp. sg. Morte/Sul/2016",
          "Latrocínio/Sul/2016",
          "Homicídio doloso/Sul/2016",
          "Ls. Cp. sg. Morte/Sudeste/2016",
          "Ls. Cp. sg. Morte/Nordeste/2017",
          "Latrocínio/Sudeste/2016",
          "Ls. Cp. sg. Morte/Norte/2016",
          "Latrocínio/Norte/2016",
          "Homicídio doloso/Norte/2016",
          "Ls. Cp. sg. Morte/Nordeste/2016",
          "Latrocínio/Nordeste/2016",
          "Homicídio doloso/Nordeste/2016",
          "Ls. Cp. sg. Morte/Centro-Oeste/2016",
          "Latrocínio/Centro-Oeste/2016",
          "Homicídio doloso/Centro-Oeste/2016",
          "Homicídio doloso/Sudeste/2016",
          "Latrocínio/Sudeste/2015/Sexo NI",
          "Homicídio doloso/Norte/2017",
          "Ls. Cp. sg. Morte/Norte/2017",
          "Latrocínio/Sul/2018",
          "Homicídio doloso/Sul/2018",
          "Ls. Cp. sg. Morte/Sudeste/2018",
          "Latrocínio/Sudeste/2018",
          "Homicídio doloso/Sudeste/2018",
          "Ls. Cp. sg. Morte/Norte/2018",
          "Latrocínio/Norte/2018",
          "Homicídio doloso/Norte/2018",
          "Ls. Cp. sg. Morte/Nordeste/2018",
          "Latrocínio/Norte/2017",
          "Latrocínio/Nordeste/2018",
          "Ls. Cp. sg. Morte/Centro-Oeste/2018",
          "Latrocínio/Centro-Oeste/2018",
          "Homicídio doloso/Centro-Oeste/2018",
          "Ls. Cp. sg. Morte/Sul/2017",
          "Latrocínio/Sul/2017",
          "Homicídio doloso/Sul/2017",
          "Ls. Cp. sg. Morte/Sudeste/2017",
          "Latrocínio/Sudeste/2017",
          "Homicídio doloso/Sudeste/2017",
          "Homicídio doloso/Nordeste/2018",
          "Homicídio doloso/Sudeste/2015/Sexo NI",
          "Ls. Cp. sg. Morte/Norte/2015/Sexo NI",
          "Latrocínio/Norte/2015/Sexo NI",
          "Latrocínio/Norte/2019/Feminino",
          "Homicídio doloso/Norte/2019/Feminino",
          "Ls. Cp. sg. Morte/Nordeste/2019/Feminino",
          "Latrocínio/Nordeste/2019/Feminino",
          "Homicídio doloso/Nordeste/2019/Feminino",
          "Ls. Cp. sg. Morte/Centro-Oeste/2019/Feminino",
          "Latrocínio/Centro-Oeste/2019/Feminino",
          "Homicídio doloso/Centro-Oeste/2019/Feminino",
          "Ls. Cp. sg. Morte/Sul/2018/Feminino",
          "Latrocínio/Sul/2018/Feminino",
          "Homicídio doloso/Sul/2018/Feminino",
          "Ls. Cp. sg. Morte/Sudeste/2018/Feminino",
          "Latrocínio/Sudeste/2018/Feminino",
          "Homicídio doloso/Sudeste/2018/Feminino",
          "Ls. Cp. sg. Morte/Norte/2018/Feminino",
          "Latrocínio/Norte/2018/Feminino",
          "Homicídio doloso/Norte/2018/Feminino",
          "Ls. Cp. sg. Morte/Nordeste/2018/Feminino",
          "Latrocínio/Nordeste/2018/Feminino",
          "Ls. Cp. sg. Morte/Norte/2019/Feminino",
          "Homicídio doloso/Sudeste/2019/Feminino",
          "Latrocínio/Sudeste/2019/Feminino",
          "Ls. Cp. sg. Morte/Sudeste/2019/Feminino",
          "Latrocínio/Centro-Oeste/2015/Masculino",
          "Homicídio doloso/Centro-Oeste/2015/Masculino",
          "Ls. Cp. sg. Morte/Sul/2020/Feminino",
          "Latrocínio/Sul/2020/Feminino",
          "Homicídio doloso/Sul/2020/Feminino",
          "Ls. Cp. sg. Morte/Sudeste/2020/Feminino",
          "Latrocínio/Sudeste/2020/Feminino",
          "Homicídio doloso/Sudeste/2020/Feminino",
          "Ls. Cp. sg. Morte/Norte/2020/Feminino",
          "Homicídio doloso/Nordeste/2018/Feminino",
          "Latrocínio/Norte/2020/Feminino",
          "Ls. Cp. sg. Morte/Nordeste/2020/Feminino",
          "Latrocínio/Nordeste/2020/Feminino",
          "Homicídio doloso/Nordeste/2020/Feminino",
          "Ls. Cp. sg. Morte/Centro-Oeste/2020/Feminino",
          "Latrocínio/Centro-Oeste/2020/Feminino",
          "Homicídio doloso/Centro-Oeste/2020/Feminino",
          "Ls. Cp. sg. Morte/Sul/2019/Feminino",
          "Latrocínio/Sul/2019/Feminino",
          "Homicídio doloso/Sul/2019/Feminino",
          "Homicídio doloso/Norte/2020/Feminino",
          "Ls. Cp. sg. Morte/Centro-Oeste/2018/Feminino",
          "Latrocínio/Centro-Oeste/2018/Feminino",
          "Homicídio doloso/Centro-Oeste/2018/Feminino",
          "Ls. Cp. sg. Morte/Nordeste/2016/Feminino",
          "Latrocínio/Nordeste/2016/Feminino",
          "Homicídio doloso/Nordeste/2016/Feminino",
          "Ls. Cp. sg. Morte/Centro-Oeste/2016/Feminino",
          "Latrocínio/Centro-Oeste/2016/Feminino",
          "Homicídio doloso/Centro-Oeste/2016/Feminino",
          "Ls. Cp. sg. Morte/Sul/2015/Feminino",
          "Latrocínio/Sul/2015/Feminino",
          "Homicídio doloso/Sul/2015/Feminino",
          "Homicídio doloso/Norte/2016/Feminino",
          "Ls. Cp. sg. Morte/Sudeste/2015/Feminino",
          "Homicídio doloso/Sudeste/2015/Feminino",
          "Ls. Cp. sg. Morte/Norte/2015/Feminino",
          "Latrocínio/Norte/2015/Feminino",
          "Homicídio doloso/Norte/2015/Feminino",
          "Ls. Cp. sg. Morte/Nordeste/2015/Feminino",
          "Latrocínio/Nordeste/2015/Feminino",
          "Homicídio doloso/Nordeste/2015/Feminino",
          "Ls. Cp. sg. Morte/Centro-Oeste/2015/Feminino",
          "Latrocínio/Centro-Oeste/2015/Feminino",
          "Latrocínio/Sudeste/2015/Feminino",
          "Ls. Cp. sg. Morte/Centro-Oeste/2015/Masculino",
          "Latrocínio/Norte/2016/Feminino",
          "Homicídio doloso/Sudeste/2016/Feminino",
          "Ls. Cp. sg. Morte/Sul/2017/Feminino",
          "Latrocínio/Sul/2017/Feminino",
          "Homicídio doloso/Sul/2017/Feminino",
          "Ls. Cp. sg. Morte/Sudeste/2017/Feminino",
          "Latrocínio/Sudeste/2017/Feminino",
          "Homicídio doloso/Sudeste/2017/Feminino",
          "Ls. Cp. sg. Morte/Norte/2017/Feminino",
          "Latrocínio/Norte/2017/Feminino",
          "Homicídio doloso/Norte/2017/Feminino",
          "Ls. Cp. sg. Morte/Norte/2016/Feminino",
          "Ls. Cp. sg. Morte/Nordeste/2017/Feminino",
          "Homicídio doloso/Nordeste/2017/Feminino",
          "Ls. Cp. sg. Morte/Centro-Oeste/2017/Feminino",
          "Latrocínio/Centro-Oeste/2017/Feminino",
          "Homicídio doloso/Centro-Oeste/2017/Feminino",
          "Ls. Cp. sg. Morte/Sul/2016/Feminino",
          "Latrocínio/Sul/2016/Feminino",
          "Homicídio doloso/Sul/2016/Feminino",
          "Ls. Cp. sg. Morte/Sudeste/2016/Feminino",
          "Latrocínio/Sudeste/2016/Feminino",
          "Latrocínio/Nordeste/2017/Feminino",
          "Latrocínio",
          "Homicídio doloso/Nordeste/2015/Masculino",
          "Ls. Cp. sg. Morte/Nordeste/2015/Masculino",
          "Homicídio doloso/Sul/2019/Masculino",
          "Ls. Cp. sg. Morte/Sudeste/2019/Masculino",
          "Latrocínio/Sudeste/2019/Masculino",
          "Homicídio doloso/Sudeste/2019/Masculino",
          "Ls. Cp. sg. Morte/Norte/2019/Masculino",
          "Latrocínio/Norte/2019/Masculino",
          "Homicídio doloso/Norte/2019/Masculino",
          "Ls. Cp. sg. Morte/Nordeste/2019/Masculino",
          "Latrocínio/Nordeste/2019/Masculino",
          "Homicídio doloso/Nordeste/2019/Masculino",
          "Ls. Cp. sg. Morte/Centro-Oeste/2019/Masculino",
          "Latrocínio/Centro-Oeste/2019/Masculino",
          "Homicídio doloso/Centro-Oeste/2019/Masculino",
          "Ls. Cp. sg. Morte/Sul/2018/Masculino",
          "Latrocínio/Sul/2018/Masculino",
          "Homicídio doloso/Sul/2018/Masculino",
          "Ls. Cp. sg. Morte/Sudeste/2018/Masculino",
          "Latrocínio/Sudeste/2018/Masculino",
          "Homicídio doloso/Sudeste/2018/Masculino",
          "Latrocínio/Sul/2019/Masculino",
          "Ls. Cp. sg. Morte/Sul/2019/Masculino",
          "Homicídio doloso/Centro-Oeste/2020/Masculino",
          "Latrocínio/Centro-Oeste/2020/Masculino",
          "Homicídio doloso/Norte/2015/Sexo NI",
          "Ls. Cp. sg. Morte/Nordeste/2015/Sexo NI",
          "Latrocínio/Nordeste/2015/Sexo NI",
          "Homicídio doloso/Nordeste/2015/Sexo NI",
          "Ls. Cp. sg. Morte/Centro-Oeste/2015/Sexo NI",
          "Latrocínio/Centro-Oeste/2015/Sexo NI",
          "Homicídio doloso/Centro-Oeste/2015/Sexo NI",
          "Ls. Cp. sg. Morte/Sul/2020/Masculino",
          "Latrocínio/Sul/2020/Masculino",
          "Ls. Cp. sg. Morte/Norte/2018/Masculino",
          "Homicídio doloso/Sul/2020/Masculino",
          "Latrocínio/Sudeste/2020/Masculino",
          "Homicídio doloso/Sudeste/2020/Masculino",
          "Ls. Cp. sg. Morte/Norte/2020/Masculino",
          "Latrocínio/Norte/2020/Masculino",
          "Homicídio doloso/Norte/2020/Masculino",
          "Ls. Cp. sg. Morte/Nordeste/2020/Masculino",
          "Latrocínio/Nordeste/2020/Masculino",
          "Homicídio doloso/Nordeste/2020/Masculino",
          "Ls. Cp. sg. Morte/Centro-Oeste/2020/Masculino",
          "Ls. Cp. sg. Morte/Sudeste/2020/Masculino",
          "Latrocínio/Norte/2018/Masculino",
          "Homicídio doloso/Norte/2018/Masculino",
          "Ls. Cp. sg. Morte/Nordeste/2018/Masculino",
          "Latrocínio/Sudeste/2016/Masculino",
          "Homicídio doloso/Sudeste/2016/Masculino",
          "Ls. Cp. sg. Morte/Norte/2016/Masculino",
          "Latrocínio/Norte/2016/Masculino",
          "Homicídio doloso/Norte/2016/Masculino",
          "Ls. Cp. sg. Morte/Nordeste/2016/Masculino",
          "Latrocínio/Nordeste/2016/Masculino",
          "Homicídio doloso/Nordeste/2016/Masculino",
          "Ls. Cp. sg. Morte/Centro-Oeste/2016/Masculino",
          "Ls. Cp. sg. Morte/Sudeste/2016/Masculino",
          "Latrocínio/Centro-Oeste/2016/Masculino",
          "Ls. Cp. sg. Morte/Sul/2015/Masculino",
          "Latrocínio/Sul/2015/Masculino",
          "Homicídio doloso/Sul/2015/Masculino",
          "Ls. Cp. sg. Morte/Sudeste/2015/Masculino",
          "Latrocínio/Sudeste/2015/Masculino",
          "Homicídio doloso/Sudeste/2015/Masculino",
          "Ls. Cp. sg. Morte/Norte/2015/Masculino",
          "Latrocínio/Norte/2015/Masculino",
          "Homicídio doloso/Norte/2015/Masculino",
          "Homicídio doloso/Centro-Oeste/2016/Masculino",
          "Latrocínio/Nordeste/2015/Masculino",
          "Homicídio doloso/Sul/2016/Masculino",
          "Ls. Cp. sg. Morte/Sul/2016/Masculino",
          "Latrocínio/Nordeste/2018/Masculino",
          "Homicídio doloso/Nordeste/2018/Masculino",
          "Ls. Cp. sg. Morte/Centro-Oeste/2018/Masculino",
          "Latrocínio/Centro-Oeste/2018/Masculino",
          "Homicídio doloso/Centro-Oeste/2018/Masculino",
          "Ls. Cp. sg. Morte/Sul/2017/Masculino",
          "Latrocínio/Sul/2017/Masculino",
          "Homicídio doloso/Sul/2017/Masculino",
          "Ls. Cp. sg. Morte/Sudeste/2017/Masculino",
          "Latrocínio/Sul/2016/Masculino",
          "Latrocínio/Sudeste/2017/Masculino",
          "Ls. Cp. sg. Morte/Norte/2017/Masculino",
          "Latrocínio/Norte/2017/Masculino",
          "Homicídio doloso/Norte/2017/Masculino",
          "Ls. Cp. sg. Morte/Nordeste/2017/Masculino",
          "Latrocínio/Nordeste/2017/Masculino",
          "Homicídio doloso/Nordeste/2017/Masculino",
          "Ls. Cp. sg. Morte/Centro-Oeste/2017/Masculino",
          "Latrocínio/Centro-Oeste/2017/Masculino",
          "Homicídio doloso/Centro-Oeste/2017/Masculino",
          "Homicídio doloso/Sudeste/2017/Masculino",
          "Ls. Cp. sg. Morte"
         ],
         "labels": [
          "Feminino",
          "Sexo NI",
          "Sexo NI",
          "Sexo NI",
          "Sexo NI",
          "Sexo NI",
          "Sexo NI",
          "Sexo NI",
          "Sexo NI",
          "Sexo NI",
          "Sexo NI",
          "Sexo NI",
          "Sexo NI",
          "Sexo NI",
          "Sexo NI",
          "Sexo NI",
          "Sexo NI",
          "Sexo NI",
          "Sexo NI",
          "Sexo NI",
          "Sexo NI",
          "Sexo NI",
          "Sexo NI",
          "Sexo NI",
          "2015",
          "2015",
          "2015",
          "2015",
          "2015",
          "2015",
          "2015",
          "2015",
          "2015",
          "Sexo NI",
          "2015",
          "Sexo NI",
          "Sexo NI",
          "Sexo NI",
          "Sexo NI",
          "Sexo NI",
          "Sexo NI",
          "Sexo NI",
          "Sexo NI",
          "Sexo NI",
          "2015",
          "2015",
          "Sexo NI",
          "Sexo NI",
          "Sexo NI",
          "Sexo NI",
          "Sexo NI",
          "Sexo NI",
          "Sexo NI",
          "Sexo NI",
          "Sexo NI",
          "Sexo NI",
          "Sexo NI",
          "Sexo NI",
          "Sexo NI",
          "Sexo NI",
          "Sexo NI",
          "Sexo NI",
          "Sexo NI",
          "Sexo NI",
          "Sexo NI",
          "Sexo NI",
          "Sexo NI",
          "Sexo NI",
          "Sexo NI",
          "Sexo NI",
          "Sexo NI",
          "Sexo NI",
          "Sexo NI",
          "Sexo NI",
          "Sexo NI",
          "Sexo NI",
          "Sexo NI",
          "Sexo NI",
          "Sexo NI",
          "Sexo NI",
          "Sexo NI",
          "Sexo NI",
          "Sexo NI",
          "Sexo NI",
          "Sexo NI",
          "Sexo NI",
          "Sexo NI",
          "Sexo NI",
          "Sexo NI",
          "Sexo NI",
          "Sexo NI",
          "Sexo NI",
          "2015",
          "2015",
          "2015",
          "2020",
          "2020",
          "2020",
          "2020",
          "2020",
          "2020",
          "2020",
          "2019",
          "2019",
          "2019",
          "2019",
          "2019",
          "2019",
          "2019",
          "2019",
          "2019",
          "2019",
          "2019",
          "2019",
          "2020",
          "2020",
          "2020",
          "2020",
          "Homicídio doloso",
          "Sul",
          "Sul",
          "Sul",
          "Sudeste",
          "Sudeste",
          "Sudeste",
          "Norte",
          "Norte",
          "2019",
          "Norte",
          "Nordeste",
          "Nordeste",
          "Centro-Oeste",
          "Centro-Oeste",
          "Centro-Oeste",
          "2020",
          "2020",
          "2020",
          "2020",
          "Nordeste",
          "2019",
          "2019",
          "2018",
          "2017",
          "2017",
          "2017",
          "2017",
          "2017",
          "2016",
          "2016",
          "2016",
          "2016",
          "2017",
          "2016",
          "2016",
          "2016",
          "2016",
          "2016",
          "2016",
          "2016",
          "2016",
          "2016",
          "2016",
          "2016",
          "Sexo NI",
          "2017",
          "2017",
          "2018",
          "2018",
          "2018",
          "2018",
          "2018",
          "2018",
          "2018",
          "2018",
          "2018",
          "2017",
          "2018",
          "2018",
          "2018",
          "2018",
          "2017",
          "2017",
          "2017",
          "2017",
          "2017",
          "2017",
          "2018",
          "Sexo NI",
          "Sexo NI",
          "Sexo NI",
          "Feminino",
          "Feminino",
          "Feminino",
          "Feminino",
          "Feminino",
          "Feminino",
          "Feminino",
          "Feminino",
          "Feminino",
          "Feminino",
          "Feminino",
          "Feminino",
          "Feminino",
          "Feminino",
          "Feminino",
          "Feminino",
          "Feminino",
          "Feminino",
          "Feminino",
          "Feminino",
          "Feminino",
          "Feminino",
          "Feminino",
          "Masculino",
          "Masculino",
          "Feminino",
          "Feminino",
          "Feminino",
          "Feminino",
          "Feminino",
          "Feminino",
          "Feminino",
          "Feminino",
          "Feminino",
          "Feminino",
          "Feminino",
          "Feminino",
          "Feminino",
          "Feminino",
          "Feminino",
          "Feminino",
          "Feminino",
          "Feminino",
          "Feminino",
          "Feminino",
          "Feminino",
          "Feminino",
          "Feminino",
          "Feminino",
          "Feminino",
          "Feminino",
          "Feminino",
          "Feminino",
          "Feminino",
          "Feminino",
          "Feminino",
          "Feminino",
          "Feminino",
          "Feminino",
          "Feminino",
          "Feminino",
          "Feminino",
          "Feminino",
          "Feminino",
          "Feminino",
          "Feminino",
          "Feminino",
          "Feminino",
          "Masculino",
          "Feminino",
          "Feminino",
          "Feminino",
          "Feminino",
          "Feminino",
          "Feminino",
          "Feminino",
          "Feminino",
          "Feminino",
          "Feminino",
          "Feminino",
          "Feminino",
          "Feminino",
          "Feminino",
          "Feminino",
          "Feminino",
          "Feminino",
          "Feminino",
          "Feminino",
          "Feminino",
          "Feminino",
          "Feminino",
          "Feminino",
          "Latrocínio",
          "Masculino",
          "Masculino",
          "Masculino",
          "Masculino",
          "Masculino",
          "Masculino",
          "Masculino",
          "Masculino",
          "Masculino",
          "Masculino",
          "Masculino",
          "Masculino",
          "Masculino",
          "Masculino",
          "Masculino",
          "Masculino",
          "Masculino",
          "Masculino",
          "Masculino",
          "Masculino",
          "Masculino",
          "Masculino",
          "Masculino",
          "Masculino",
          "Masculino",
          "Sexo NI",
          "Sexo NI",
          "Sexo NI",
          "Sexo NI",
          "Sexo NI",
          "Sexo NI",
          "Sexo NI",
          "Masculino",
          "Masculino",
          "Masculino",
          "Masculino",
          "Masculino",
          "Masculino",
          "Masculino",
          "Masculino",
          "Masculino",
          "Masculino",
          "Masculino",
          "Masculino",
          "Masculino",
          "Masculino",
          "Masculino",
          "Masculino",
          "Masculino",
          "Masculino",
          "Masculino",
          "Masculino",
          "Masculino",
          "Masculino",
          "Masculino",
          "Masculino",
          "Masculino",
          "Masculino",
          "Masculino",
          "Masculino",
          "Masculino",
          "Masculino",
          "Masculino",
          "Masculino",
          "Masculino",
          "Masculino",
          "Masculino",
          "Masculino",
          "Masculino",
          "Masculino",
          "Masculino",
          "Masculino",
          "Masculino",
          "Masculino",
          "Masculino",
          "Masculino",
          "Masculino",
          "Masculino",
          "Masculino",
          "Masculino",
          "Masculino",
          "Masculino",
          "Masculino",
          "Masculino",
          "Masculino",
          "Masculino",
          "Masculino",
          "Masculino",
          "Masculino",
          "Masculino",
          "Masculino",
          "Masculino",
          "Masculino",
          "Masculino",
          "Ls. Cp. sg. Morte"
         ],
         "marker": {
          "colors": [
           "rgb(217, 233, 241)",
           "rgb(247, 182, 152)",
           "rgb(247, 182, 152)",
           "rgb(127, 8, 35)",
           "rgb(127, 8, 35)",
           "rgb(127, 8, 35)",
           "rgb(127, 8, 35)",
           "rgb(127, 8, 35)",
           "rgb(127, 8, 35)",
           "rgb(127, 8, 35)",
           "rgb(127, 8, 35)",
           "rgb(127, 8, 35)",
           "rgb(127, 8, 35)",
           "rgb(127, 8, 35)",
           "rgb(127, 8, 35)",
           "rgb(127, 8, 35)",
           "rgb(127, 8, 35)",
           "rgb(127, 8, 35)",
           "rgb(251, 209, 186)",
           "rgb(251, 209, 186)",
           "rgb(247, 182, 152)",
           "rgb(247, 182, 152)",
           "rgb(247, 182, 152)",
           "rgb(247, 182, 152)",
           "rgb(217, 233, 241)",
           "rgb(217, 233, 241)",
           "rgb(217, 233, 241)",
           "rgb(217, 233, 241)",
           "rgb(217, 233, 241)",
           "rgb(217, 233, 241)",
           "rgb(217, 233, 241)",
           "rgb(217, 233, 241)",
           "rgb(217, 233, 241)",
           "rgb(251, 209, 186)",
           "rgb(217, 233, 241)",
           "rgb(247, 182, 152)",
           "rgb(247, 182, 152)",
           "rgb(247, 182, 152)",
           "rgb(247, 182, 152)",
           "rgb(247, 182, 152)",
           "rgb(247, 182, 152)",
           "rgb(247, 182, 152)",
           "rgb(247, 182, 152)",
           "rgb(247, 182, 152)",
           "rgb(217, 233, 241)",
           "rgb(217, 233, 241)",
           "rgb(251, 209, 186)",
           "rgb(251, 209, 186)",
           "rgb(126, 184, 215)",
           "rgb(126, 184, 215)",
           "rgb(126, 184, 215)",
           "rgb(126, 184, 215)",
           "rgb(126, 184, 215)",
           "rgb(126, 184, 215)",
           "rgb(126, 184, 215)",
           "rgb(126, 184, 215)",
           "rgb(126, 184, 215)",
           "rgb(126, 184, 215)",
           "rgb(126, 184, 215)",
           "rgb(126, 184, 215)",
           "rgb(126, 184, 215)",
           "rgb(126, 184, 215)",
           "rgb(126, 184, 215)",
           "rgb(217, 233, 241)",
           "rgb(217, 233, 241)",
           "rgb(217, 233, 241)",
           "rgb(217, 233, 241)",
           "rgb(5, 48, 97)",
           "rgb(5, 48, 97)",
           "rgb(5, 48, 97)",
           "rgb(5, 48, 97)",
           "rgb(251, 209, 186)",
           "rgb(251, 209, 186)",
           "rgb(251, 209, 186)",
           "rgb(251, 209, 186)",
           "rgb(251, 209, 186)",
           "rgb(251, 209, 186)",
           "rgb(251, 209, 186)",
           "rgb(251, 209, 186)",
           "rgb(251, 209, 186)",
           "rgb(251, 209, 186)",
           "rgb(5, 48, 97)",
           "rgb(5, 48, 97)",
           "rgb(5, 48, 97)",
           "rgb(5, 48, 97)",
           "rgb(5, 48, 97)",
           "rgb(5, 48, 97)",
           "rgb(5, 48, 97)",
           "rgb(5, 48, 97)",
           "rgb(5, 48, 97)",
           "rgb(5, 48, 97)",
           "rgb(5, 48, 97)",
           "rgb(217, 233, 241)",
           "rgb(217, 233, 241)",
           "rgb(217, 233, 241)",
           "rgb(247, 182, 152)",
           "rgb(247, 182, 152)",
           "rgb(247, 182, 152)",
           "rgb(247, 182, 152)",
           "rgb(247, 182, 152)",
           "rgb(247, 182, 152)",
           "rgb(247, 182, 152)",
           "rgb(127, 8, 35)",
           "rgb(127, 8, 35)",
           "rgb(127, 8, 35)",
           "rgb(127, 8, 35)",
           "rgb(127, 8, 35)",
           "rgb(127, 8, 35)",
           "rgb(127, 8, 35)",
           "rgb(127, 8, 35)",
           "rgb(127, 8, 35)",
           "rgb(127, 8, 35)",
           "rgb(127, 8, 35)",
           "rgb(127, 8, 35)",
           "rgb(247, 182, 152)",
           "rgb(247, 182, 152)",
           "rgb(247, 182, 152)",
           "rgb(247, 182, 152)",
           "rgb(217, 233, 241)",
           "rgb(217, 233, 241)",
           "rgb(217, 233, 241)",
           "rgb(217, 233, 241)",
           "rgb(217, 233, 241)",
           "rgb(217, 233, 241)",
           "rgb(217, 233, 241)",
           "rgb(217, 233, 241)",
           "rgb(217, 233, 241)",
           "rgb(127, 8, 35)",
           "rgb(217, 233, 241)",
           "rgb(217, 233, 241)",
           "rgb(217, 233, 241)",
           "rgb(217, 233, 241)",
           "rgb(217, 233, 241)",
           "rgb(217, 233, 241)",
           "rgb(247, 182, 152)",
           "rgb(247, 182, 152)",
           "rgb(247, 182, 152)",
           "rgb(247, 182, 152)",
           "rgb(217, 233, 241)",
           "rgb(127, 8, 35)",
           "rgb(127, 8, 35)",
           "rgb(251, 209, 186)",
           "rgb(5, 48, 97)",
           "rgb(5, 48, 97)",
           "rgb(5, 48, 97)",
           "rgb(5, 48, 97)",
           "rgb(5, 48, 97)",
           "rgb(126, 184, 215)",
           "rgb(126, 184, 215)",
           "rgb(126, 184, 215)",
           "rgb(126, 184, 215)",
           "rgb(5, 48, 97)",
           "rgb(126, 184, 215)",
           "rgb(126, 184, 215)",
           "rgb(126, 184, 215)",
           "rgb(126, 184, 215)",
           "rgb(126, 184, 215)",
           "rgb(126, 184, 215)",
           "rgb(126, 184, 215)",
           "rgb(126, 184, 215)",
           "rgb(126, 184, 215)",
           "rgb(126, 184, 215)",
           "rgb(126, 184, 215)",
           "rgb(217, 233, 241)",
           "rgb(5, 48, 97)",
           "rgb(5, 48, 97)",
           "rgb(251, 209, 186)",
           "rgb(251, 209, 186)",
           "rgb(251, 209, 186)",
           "rgb(251, 209, 186)",
           "rgb(251, 209, 186)",
           "rgb(251, 209, 186)",
           "rgb(251, 209, 186)",
           "rgb(251, 209, 186)",
           "rgb(251, 209, 186)",
           "rgb(5, 48, 97)",
           "rgb(251, 209, 186)",
           "rgb(251, 209, 186)",
           "rgb(251, 209, 186)",
           "rgb(251, 209, 186)",
           "rgb(5, 48, 97)",
           "rgb(5, 48, 97)",
           "rgb(5, 48, 97)",
           "rgb(5, 48, 97)",
           "rgb(5, 48, 97)",
           "rgb(5, 48, 97)",
           "rgb(251, 209, 186)",
           "rgb(217, 233, 241)",
           "rgb(217, 233, 241)",
           "rgb(217, 233, 241)",
           "rgb(127, 8, 35)",
           "rgb(127, 8, 35)",
           "rgb(127, 8, 35)",
           "rgb(127, 8, 35)",
           "rgb(127, 8, 35)",
           "rgb(127, 8, 35)",
           "rgb(127, 8, 35)",
           "rgb(127, 8, 35)",
           "rgb(251, 209, 186)",
           "rgb(251, 209, 186)",
           "rgb(251, 209, 186)",
           "rgb(251, 209, 186)",
           "rgb(251, 209, 186)",
           "rgb(251, 209, 186)",
           "rgb(251, 209, 186)",
           "rgb(251, 209, 186)",
           "rgb(251, 209, 186)",
           "rgb(251, 209, 186)",
           "rgb(251, 209, 186)",
           "rgb(127, 8, 35)",
           "rgb(127, 8, 35)",
           "rgb(127, 8, 35)",
           "rgb(127, 8, 35)",
           "rgb(217, 233, 241)",
           "rgb(217, 233, 241)",
           "rgb(247, 182, 152)",
           "rgb(247, 182, 152)",
           "rgb(247, 182, 152)",
           "rgb(247, 182, 152)",
           "rgb(247, 182, 152)",
           "rgb(247, 182, 152)",
           "rgb(247, 182, 152)",
           "rgb(251, 209, 186)",
           "rgb(247, 182, 152)",
           "rgb(247, 182, 152)",
           "rgb(247, 182, 152)",
           "rgb(247, 182, 152)",
           "rgb(247, 182, 152)",
           "rgb(247, 182, 152)",
           "rgb(247, 182, 152)",
           "rgb(127, 8, 35)",
           "rgb(127, 8, 35)",
           "rgb(127, 8, 35)",
           "rgb(247, 182, 152)",
           "rgb(251, 209, 186)",
           "rgb(251, 209, 186)",
           "rgb(251, 209, 186)",
           "rgb(126, 184, 215)",
           "rgb(126, 184, 215)",
           "rgb(126, 184, 215)",
           "rgb(126, 184, 215)",
           "rgb(126, 184, 215)",
           "rgb(126, 184, 215)",
           "rgb(217, 233, 241)",
           "rgb(217, 233, 241)",
           "rgb(217, 233, 241)",
           "rgb(126, 184, 215)",
           "rgb(217, 233, 241)",
           "rgb(217, 233, 241)",
           "rgb(217, 233, 241)",
           "rgb(217, 233, 241)",
           "rgb(217, 233, 241)",
           "rgb(217, 233, 241)",
           "rgb(217, 233, 241)",
           "rgb(217, 233, 241)",
           "rgb(217, 233, 241)",
           "rgb(217, 233, 241)",
           "rgb(217, 233, 241)",
           "rgb(217, 233, 241)",
           "rgb(126, 184, 215)",
           "rgb(126, 184, 215)",
           "rgb(5, 48, 97)",
           "rgb(5, 48, 97)",
           "rgb(5, 48, 97)",
           "rgb(5, 48, 97)",
           "rgb(5, 48, 97)",
           "rgb(5, 48, 97)",
           "rgb(5, 48, 97)",
           "rgb(5, 48, 97)",
           "rgb(5, 48, 97)",
           "rgb(126, 184, 215)",
           "rgb(5, 48, 97)",
           "rgb(5, 48, 97)",
           "rgb(5, 48, 97)",
           "rgb(5, 48, 97)",
           "rgb(5, 48, 97)",
           "rgb(126, 184, 215)",
           "rgb(126, 184, 215)",
           "rgb(126, 184, 215)",
           "rgb(126, 184, 215)",
           "rgb(126, 184, 215)",
           "rgb(5, 48, 97)",
           "rgb(217, 233, 241)",
           "rgb(217, 233, 241)",
           "rgb(217, 233, 241)",
           "rgb(127, 8, 35)",
           "rgb(127, 8, 35)",
           "rgb(127, 8, 35)",
           "rgb(127, 8, 35)",
           "rgb(127, 8, 35)",
           "rgb(127, 8, 35)",
           "rgb(127, 8, 35)",
           "rgb(127, 8, 35)",
           "rgb(127, 8, 35)",
           "rgb(127, 8, 35)",
           "rgb(127, 8, 35)",
           "rgb(127, 8, 35)",
           "rgb(127, 8, 35)",
           "rgb(251, 209, 186)",
           "rgb(251, 209, 186)",
           "rgb(251, 209, 186)",
           "rgb(251, 209, 186)",
           "rgb(251, 209, 186)",
           "rgb(251, 209, 186)",
           "rgb(127, 8, 35)",
           "rgb(127, 8, 35)",
           "rgb(247, 182, 152)",
           "rgb(247, 182, 152)",
           "rgb(217, 233, 241)",
           "rgb(217, 233, 241)",
           "rgb(217, 233, 241)",
           "rgb(217, 233, 241)",
           "rgb(217, 233, 241)",
           "rgb(217, 233, 241)",
           "rgb(217, 233, 241)",
           "rgb(247, 182, 152)",
           "rgb(247, 182, 152)",
           "rgb(251, 209, 186)",
           "rgb(247, 182, 152)",
           "rgb(247, 182, 152)",
           "rgb(247, 182, 152)",
           "rgb(247, 182, 152)",
           "rgb(247, 182, 152)",
           "rgb(247, 182, 152)",
           "rgb(247, 182, 152)",
           "rgb(247, 182, 152)",
           "rgb(247, 182, 152)",
           "rgb(247, 182, 152)",
           "rgb(247, 182, 152)",
           "rgb(251, 209, 186)",
           "rgb(251, 209, 186)",
           "rgb(251, 209, 186)",
           "rgb(126, 184, 215)",
           "rgb(126, 184, 215)",
           "rgb(126, 184, 215)",
           "rgb(126, 184, 215)",
           "rgb(126, 184, 215)",
           "rgb(126, 184, 215)",
           "rgb(126, 184, 215)",
           "rgb(126, 184, 215)",
           "rgb(126, 184, 215)",
           "rgb(126, 184, 215)",
           "rgb(126, 184, 215)",
           "rgb(217, 233, 241)",
           "rgb(217, 233, 241)",
           "rgb(217, 233, 241)",
           "rgb(217, 233, 241)",
           "rgb(217, 233, 241)",
           "rgb(217, 233, 241)",
           "rgb(217, 233, 241)",
           "rgb(217, 233, 241)",
           "rgb(217, 233, 241)",
           "rgb(126, 184, 215)",
           "rgb(217, 233, 241)",
           "rgb(126, 184, 215)",
           "rgb(126, 184, 215)",
           "rgb(251, 209, 186)",
           "rgb(251, 209, 186)",
           "rgb(251, 209, 186)",
           "rgb(251, 209, 186)",
           "rgb(251, 209, 186)",
           "rgb(5, 48, 97)",
           "rgb(5, 48, 97)",
           "rgb(5, 48, 97)",
           "rgb(5, 48, 97)",
           "rgb(126, 184, 215)",
           "rgb(5, 48, 97)",
           "rgb(5, 48, 97)",
           "rgb(5, 48, 97)",
           "rgb(5, 48, 97)",
           "rgb(5, 48, 97)",
           "rgb(5, 48, 97)",
           "rgb(5, 48, 97)",
           "rgb(5, 48, 97)",
           "rgb(5, 48, 97)",
           "rgb(5, 48, 97)",
           "rgb(5, 48, 97)",
           "rgb(217, 233, 241)"
          ]
         },
         "name": "",
         "parents": [
          "Homicídio doloso/Centro-Oeste/2015",
          "Latrocínio/Centro-Oeste/2020",
          "Homicídio doloso/Centro-Oeste/2020",
          "Ls. Cp. sg. Morte/Sul/2019",
          "Latrocínio/Sul/2019",
          "Homicídio doloso/Sul/2019",
          "Ls. Cp. sg. Morte/Sudeste/2019",
          "Latrocínio/Sudeste/2019",
          "Homicídio doloso/Sudeste/2019",
          "Ls. Cp. sg. Morte/Norte/2019",
          "Latrocínio/Norte/2019",
          "Homicídio doloso/Norte/2019",
          "Ls. Cp. sg. Morte/Nordeste/2019",
          "Latrocínio/Nordeste/2019",
          "Homicídio doloso/Nordeste/2019",
          "Ls. Cp. sg. Morte/Centro-Oeste/2019",
          "Latrocínio/Centro-Oeste/2019",
          "Homicídio doloso/Centro-Oeste/2019",
          "Ls. Cp. sg. Morte/Sul/2018",
          "Latrocínio/Sul/2018",
          "Ls. Cp. sg. Morte/Centro-Oeste/2020",
          "Homicídio doloso/Nordeste/2020",
          "Latrocínio/Nordeste/2020",
          "Ls. Cp. sg. Morte/Nordeste/2020",
          "Latrocínio/Sudeste",
          "Homicídio doloso/Sudeste",
          "Ls. Cp. sg. Morte/Norte",
          "Latrocínio/Norte",
          "Homicídio doloso/Norte",
          "Ls. Cp. sg. Morte/Nordeste",
          "Latrocínio/Nordeste",
          "Homicídio doloso/Nordeste",
          "Ls. Cp. sg. Morte/Centro-Oeste",
          "Homicídio doloso/Sul/2018",
          "Latrocínio/Centro-Oeste",
          "Ls. Cp. sg. Morte/Sul/2020",
          "Latrocínio/Sul/2020",
          "Homicídio doloso/Sul/2020",
          "Ls. Cp. sg. Morte/Sudeste/2020",
          "Latrocínio/Sudeste/2020",
          "Homicídio doloso/Sudeste/2020",
          "Ls. Cp. sg. Morte/Norte/2020",
          "Latrocínio/Norte/2020",
          "Homicídio doloso/Norte/2020",
          "Homicídio doloso/Centro-Oeste",
          "Ls. Cp. sg. Morte/Sudeste",
          "Ls. Cp. sg. Morte/Sudeste/2018",
          "Homicídio doloso/Sudeste/2018",
          "Ls. Cp. sg. Morte/Sul/2016",
          "Latrocínio/Sul/2016",
          "Homicídio doloso/Sul/2016",
          "Ls. Cp. sg. Morte/Sudeste/2016",
          "Latrocínio/Sudeste/2016",
          "Homicídio doloso/Sudeste/2016",
          "Ls. Cp. sg. Morte/Norte/2016",
          "Latrocínio/Norte/2016",
          "Homicídio doloso/Norte/2016",
          "Ls. Cp. sg. Morte/Nordeste/2016",
          "Latrocínio/Nordeste/2016",
          "Homicídio doloso/Nordeste/2016",
          "Ls. Cp. sg. Morte/Centro-Oeste/2016",
          "Latrocínio/Centro-Oeste/2016",
          "Homicídio doloso/Centro-Oeste/2016",
          "Ls. Cp. sg. Morte/Sul/2015",
          "Latrocínio/Sul/2015",
          "Homicídio doloso/Sul/2015",
          "Ls. Cp. sg. Morte/Sudeste/2015",
          "Homicídio doloso/Centro-Oeste/2017",
          "Latrocínio/Centro-Oeste/2017",
          "Ls. Cp. sg. Morte/Centro-Oeste/2017",
          "Homicídio doloso/Nordeste/2017",
          "Ls. Cp. sg. Morte/Norte/2018",
          "Latrocínio/Norte/2018",
          "Homicídio doloso/Norte/2018",
          "Ls. Cp. sg. Morte/Nordeste/2018",
          "Latrocínio/Nordeste/2018",
          "Homicídio doloso/Nordeste/2018",
          "Ls. Cp. sg. Morte/Centro-Oeste/2018",
          "Latrocínio/Centro-Oeste/2018",
          "Homicídio doloso/Centro-Oeste/2018",
          "Latrocínio/Sudeste/2018",
          "Ls. Cp. sg. Morte/Sul/2017",
          "Homicídio doloso/Sul/2017",
          "Ls. Cp. sg. Morte/Sudeste/2017",
          "Latrocínio/Sudeste/2017",
          "Homicídio doloso/Sudeste/2017",
          "Ls. Cp. sg. Morte/Norte/2017",
          "Latrocínio/Norte/2017",
          "Homicídio doloso/Norte/2017",
          "Ls. Cp. sg. Morte/Nordeste/2017",
          "Latrocínio/Nordeste/2017",
          "Latrocínio/Sul/2017",
          "Homicídio doloso/Sul",
          "Latrocínio/Sul",
          "Ls. Cp. sg. Morte/Sul",
          "Homicídio doloso/Norte",
          "Ls. Cp. sg. Morte/Nordeste",
          "Latrocínio/Nordeste",
          "Homicídio doloso/Nordeste",
          "Ls. Cp. sg. Morte/Centro-Oeste",
          "Latrocínio/Centro-Oeste",
          "Homicídio doloso/Centro-Oeste",
          "Ls. Cp. sg. Morte/Sul",
          "Latrocínio/Sul",
          "Homicídio doloso/Sul",
          "Ls. Cp. sg. Morte/Sudeste",
          "Latrocínio/Sudeste",
          "Homicídio doloso/Sudeste",
          "Ls. Cp. sg. Morte/Norte",
          "Latrocínio/Norte",
          "Homicídio doloso/Norte",
          "Ls. Cp. sg. Morte/Nordeste",
          "Latrocínio/Nordeste",
          "Homicídio doloso/Nordeste",
          "Latrocínio/Norte",
          "Ls. Cp. sg. Morte/Norte",
          "Homicídio doloso/Sudeste",
          "Latrocínio/Sudeste",
          "",
          "Ls. Cp. sg. Morte",
          "Latrocínio",
          "Homicídio doloso",
          "Ls. Cp. sg. Morte",
          "Latrocínio",
          "Homicídio doloso",
          "Ls. Cp. sg. Morte",
          "Latrocínio",
          "Ls. Cp. sg. Morte/Centro-Oeste",
          "Homicídio doloso",
          "Latrocínio",
          "Homicídio doloso",
          "Ls. Cp. sg. Morte",
          "Latrocínio",
          "Homicídio doloso",
          "Ls. Cp. sg. Morte/Sul",
          "Latrocínio/Sul",
          "Homicídio doloso/Sul",
          "Ls. Cp. sg. Morte/Sudeste",
          "Ls. Cp. sg. Morte",
          "Latrocínio/Centro-Oeste",
          "Homicídio doloso/Centro-Oeste",
          "Ls. Cp. sg. Morte/Sul",
          "Latrocínio/Nordeste",
          "Homicídio doloso/Nordeste",
          "Ls. Cp. sg. Morte/Centro-Oeste",
          "Latrocínio/Centro-Oeste",
          "Homicídio doloso/Centro-Oeste",
          "Ls. Cp. sg. Morte/Sul",
          "Latrocínio/Sul",
          "Homicídio doloso/Sul",
          "Ls. Cp. sg. Morte/Sudeste",
          "Ls. Cp. sg. Morte/Nordeste",
          "Latrocínio/Sudeste",
          "Ls. Cp. sg. Morte/Norte",
          "Latrocínio/Norte",
          "Homicídio doloso/Norte",
          "Ls. Cp. sg. Morte/Nordeste",
          "Latrocínio/Nordeste",
          "Homicídio doloso/Nordeste",
          "Ls. Cp. sg. Morte/Centro-Oeste",
          "Latrocínio/Centro-Oeste",
          "Homicídio doloso/Centro-Oeste",
          "Homicídio doloso/Sudeste",
          "Latrocínio/Sudeste/2015",
          "Homicídio doloso/Norte",
          "Ls. Cp. sg. Morte/Norte",
          "Latrocínio/Sul",
          "Homicídio doloso/Sul",
          "Ls. Cp. sg. Morte/Sudeste",
          "Latrocínio/Sudeste",
          "Homicídio doloso/Sudeste",
          "Ls. Cp. sg. Morte/Norte",
          "Latrocínio/Norte",
          "Homicídio doloso/Norte",
          "Ls. Cp. sg. Morte/Nordeste",
          "Latrocínio/Norte",
          "Latrocínio/Nordeste",
          "Ls. Cp. sg. Morte/Centro-Oeste",
          "Latrocínio/Centro-Oeste",
          "Homicídio doloso/Centro-Oeste",
          "Ls. Cp. sg. Morte/Sul",
          "Latrocínio/Sul",
          "Homicídio doloso/Sul",
          "Ls. Cp. sg. Morte/Sudeste",
          "Latrocínio/Sudeste",
          "Homicídio doloso/Sudeste",
          "Homicídio doloso/Nordeste",
          "Homicídio doloso/Sudeste/2015",
          "Ls. Cp. sg. Morte/Norte/2015",
          "Latrocínio/Norte/2015",
          "Latrocínio/Norte/2019",
          "Homicídio doloso/Norte/2019",
          "Ls. Cp. sg. Morte/Nordeste/2019",
          "Latrocínio/Nordeste/2019",
          "Homicídio doloso/Nordeste/2019",
          "Ls. Cp. sg. Morte/Centro-Oeste/2019",
          "Latrocínio/Centro-Oeste/2019",
          "Homicídio doloso/Centro-Oeste/2019",
          "Ls. Cp. sg. Morte/Sul/2018",
          "Latrocínio/Sul/2018",
          "Homicídio doloso/Sul/2018",
          "Ls. Cp. sg. Morte/Sudeste/2018",
          "Latrocínio/Sudeste/2018",
          "Homicídio doloso/Sudeste/2018",
          "Ls. Cp. sg. Morte/Norte/2018",
          "Latrocínio/Norte/2018",
          "Homicídio doloso/Norte/2018",
          "Ls. Cp. sg. Morte/Nordeste/2018",
          "Latrocínio/Nordeste/2018",
          "Ls. Cp. sg. Morte/Norte/2019",
          "Homicídio doloso/Sudeste/2019",
          "Latrocínio/Sudeste/2019",
          "Ls. Cp. sg. Morte/Sudeste/2019",
          "Latrocínio/Centro-Oeste/2015",
          "Homicídio doloso/Centro-Oeste/2015",
          "Ls. Cp. sg. Morte/Sul/2020",
          "Latrocínio/Sul/2020",
          "Homicídio doloso/Sul/2020",
          "Ls. Cp. sg. Morte/Sudeste/2020",
          "Latrocínio/Sudeste/2020",
          "Homicídio doloso/Sudeste/2020",
          "Ls. Cp. sg. Morte/Norte/2020",
          "Homicídio doloso/Nordeste/2018",
          "Latrocínio/Norte/2020",
          "Ls. Cp. sg. Morte/Nordeste/2020",
          "Latrocínio/Nordeste/2020",
          "Homicídio doloso/Nordeste/2020",
          "Ls. Cp. sg. Morte/Centro-Oeste/2020",
          "Latrocínio/Centro-Oeste/2020",
          "Homicídio doloso/Centro-Oeste/2020",
          "Ls. Cp. sg. Morte/Sul/2019",
          "Latrocínio/Sul/2019",
          "Homicídio doloso/Sul/2019",
          "Homicídio doloso/Norte/2020",
          "Ls. Cp. sg. Morte/Centro-Oeste/2018",
          "Latrocínio/Centro-Oeste/2018",
          "Homicídio doloso/Centro-Oeste/2018",
          "Ls. Cp. sg. Morte/Nordeste/2016",
          "Latrocínio/Nordeste/2016",
          "Homicídio doloso/Nordeste/2016",
          "Ls. Cp. sg. Morte/Centro-Oeste/2016",
          "Latrocínio/Centro-Oeste/2016",
          "Homicídio doloso/Centro-Oeste/2016",
          "Ls. Cp. sg. Morte/Sul/2015",
          "Latrocínio/Sul/2015",
          "Homicídio doloso/Sul/2015",
          "Homicídio doloso/Norte/2016",
          "Ls. Cp. sg. Morte/Sudeste/2015",
          "Homicídio doloso/Sudeste/2015",
          "Ls. Cp. sg. Morte/Norte/2015",
          "Latrocínio/Norte/2015",
          "Homicídio doloso/Norte/2015",
          "Ls. Cp. sg. Morte/Nordeste/2015",
          "Latrocínio/Nordeste/2015",
          "Homicídio doloso/Nordeste/2015",
          "Ls. Cp. sg. Morte/Centro-Oeste/2015",
          "Latrocínio/Centro-Oeste/2015",
          "Latrocínio/Sudeste/2015",
          "Ls. Cp. sg. Morte/Centro-Oeste/2015",
          "Latrocínio/Norte/2016",
          "Homicídio doloso/Sudeste/2016",
          "Ls. Cp. sg. Morte/Sul/2017",
          "Latrocínio/Sul/2017",
          "Homicídio doloso/Sul/2017",
          "Ls. Cp. sg. Morte/Sudeste/2017",
          "Latrocínio/Sudeste/2017",
          "Homicídio doloso/Sudeste/2017",
          "Ls. Cp. sg. Morte/Norte/2017",
          "Latrocínio/Norte/2017",
          "Homicídio doloso/Norte/2017",
          "Ls. Cp. sg. Morte/Norte/2016",
          "Ls. Cp. sg. Morte/Nordeste/2017",
          "Homicídio doloso/Nordeste/2017",
          "Ls. Cp. sg. Morte/Centro-Oeste/2017",
          "Latrocínio/Centro-Oeste/2017",
          "Homicídio doloso/Centro-Oeste/2017",
          "Ls. Cp. sg. Morte/Sul/2016",
          "Latrocínio/Sul/2016",
          "Homicídio doloso/Sul/2016",
          "Ls. Cp. sg. Morte/Sudeste/2016",
          "Latrocínio/Sudeste/2016",
          "Latrocínio/Nordeste/2017",
          "",
          "Homicídio doloso/Nordeste/2015",
          "Ls. Cp. sg. Morte/Nordeste/2015",
          "Homicídio doloso/Sul/2019",
          "Ls. Cp. sg. Morte/Sudeste/2019",
          "Latrocínio/Sudeste/2019",
          "Homicídio doloso/Sudeste/2019",
          "Ls. Cp. sg. Morte/Norte/2019",
          "Latrocínio/Norte/2019",
          "Homicídio doloso/Norte/2019",
          "Ls. Cp. sg. Morte/Nordeste/2019",
          "Latrocínio/Nordeste/2019",
          "Homicídio doloso/Nordeste/2019",
          "Ls. Cp. sg. Morte/Centro-Oeste/2019",
          "Latrocínio/Centro-Oeste/2019",
          "Homicídio doloso/Centro-Oeste/2019",
          "Ls. Cp. sg. Morte/Sul/2018",
          "Latrocínio/Sul/2018",
          "Homicídio doloso/Sul/2018",
          "Ls. Cp. sg. Morte/Sudeste/2018",
          "Latrocínio/Sudeste/2018",
          "Homicídio doloso/Sudeste/2018",
          "Latrocínio/Sul/2019",
          "Ls. Cp. sg. Morte/Sul/2019",
          "Homicídio doloso/Centro-Oeste/2020",
          "Latrocínio/Centro-Oeste/2020",
          "Homicídio doloso/Norte/2015",
          "Ls. Cp. sg. Morte/Nordeste/2015",
          "Latrocínio/Nordeste/2015",
          "Homicídio doloso/Nordeste/2015",
          "Ls. Cp. sg. Morte/Centro-Oeste/2015",
          "Latrocínio/Centro-Oeste/2015",
          "Homicídio doloso/Centro-Oeste/2015",
          "Ls. Cp. sg. Morte/Sul/2020",
          "Latrocínio/Sul/2020",
          "Ls. Cp. sg. Morte/Norte/2018",
          "Homicídio doloso/Sul/2020",
          "Latrocínio/Sudeste/2020",
          "Homicídio doloso/Sudeste/2020",
          "Ls. Cp. sg. Morte/Norte/2020",
          "Latrocínio/Norte/2020",
          "Homicídio doloso/Norte/2020",
          "Ls. Cp. sg. Morte/Nordeste/2020",
          "Latrocínio/Nordeste/2020",
          "Homicídio doloso/Nordeste/2020",
          "Ls. Cp. sg. Morte/Centro-Oeste/2020",
          "Ls. Cp. sg. Morte/Sudeste/2020",
          "Latrocínio/Norte/2018",
          "Homicídio doloso/Norte/2018",
          "Ls. Cp. sg. Morte/Nordeste/2018",
          "Latrocínio/Sudeste/2016",
          "Homicídio doloso/Sudeste/2016",
          "Ls. Cp. sg. Morte/Norte/2016",
          "Latrocínio/Norte/2016",
          "Homicídio doloso/Norte/2016",
          "Ls. Cp. sg. Morte/Nordeste/2016",
          "Latrocínio/Nordeste/2016",
          "Homicídio doloso/Nordeste/2016",
          "Ls. Cp. sg. Morte/Centro-Oeste/2016",
          "Ls. Cp. sg. Morte/Sudeste/2016",
          "Latrocínio/Centro-Oeste/2016",
          "Ls. Cp. sg. Morte/Sul/2015",
          "Latrocínio/Sul/2015",
          "Homicídio doloso/Sul/2015",
          "Ls. Cp. sg. Morte/Sudeste/2015",
          "Latrocínio/Sudeste/2015",
          "Homicídio doloso/Sudeste/2015",
          "Ls. Cp. sg. Morte/Norte/2015",
          "Latrocínio/Norte/2015",
          "Homicídio doloso/Norte/2015",
          "Homicídio doloso/Centro-Oeste/2016",
          "Latrocínio/Nordeste/2015",
          "Homicídio doloso/Sul/2016",
          "Ls. Cp. sg. Morte/Sul/2016",
          "Latrocínio/Nordeste/2018",
          "Homicídio doloso/Nordeste/2018",
          "Ls. Cp. sg. Morte/Centro-Oeste/2018",
          "Latrocínio/Centro-Oeste/2018",
          "Homicídio doloso/Centro-Oeste/2018",
          "Ls. Cp. sg. Morte/Sul/2017",
          "Latrocínio/Sul/2017",
          "Homicídio doloso/Sul/2017",
          "Ls. Cp. sg. Morte/Sudeste/2017",
          "Latrocínio/Sul/2016",
          "Latrocínio/Sudeste/2017",
          "Ls. Cp. sg. Morte/Norte/2017",
          "Latrocínio/Norte/2017",
          "Homicídio doloso/Norte/2017",
          "Ls. Cp. sg. Morte/Nordeste/2017",
          "Latrocínio/Nordeste/2017",
          "Homicídio doloso/Nordeste/2017",
          "Ls. Cp. sg. Morte/Centro-Oeste/2017",
          "Latrocínio/Centro-Oeste/2017",
          "Homicídio doloso/Centro-Oeste/2017",
          "Homicídio doloso/Sudeste/2017",
          ""
         ],
         "type": "sunburst",
         "values": [
          490,
          6,
          139,
          1,
          1,
          37,
          2,
          3,
          255,
          2,
          1,
          38,
          65,
          19,
          254,
          6,
          15,
          194,
          39,
          94,
          13,
          184,
          27,
          23,
          292,
          9759,
          51,
          316,
          6123,
          408,
          761,
          21684,
          71,
          186,
          271,
          0,
          1,
          19,
          6,
          1,
          263,
          1,
          9,
          202,
          5722,
          111,
          0,
          278,
          60,
          117,
          2498,
          0,
          4,
          242,
          2,
          0,
          89,
          2,
          3,
          57,
          8,
          23,
          383,
          61,
          117,
          2417,
          0,
          235,
          16,
          4,
          111,
          0,
          4,
          22,
          0,
          0,
          54,
          8,
          16,
          181,
          2,
          36,
          2189,
          8,
          5,
          349,
          5,
          7,
          5,
          0,
          1,
          67,
          5907,
          297,
          98,
          4624,
          270,
          452,
          19739,
          55,
          114,
          3142,
          88,
          191,
          4295,
          206,
          410,
          10595,
          104,
          263,
          5142,
          362,
          556,
          16314,
          211,
          98,
          10218,
          391,
          289749,
          552,
          1416,
          33914,
          1054,
          2831,
          67790,
          591,
          1902,
          96,
          35557,
          4144,
          126178,
          460,
          1259,
          26310,
          103,
          196,
          6156,
          231,
          2331,
          147,
          3281,
          81,
          892,
          24742,
          73,
          234,
          4785,
          96,
          300,
          6290,
          136,
          519,
          443,
          108,
          389,
          6411,
          361,
          829,
          22677,
          62,
          274,
          5495,
          10766,
          0,
          6542,
          126,
          205,
          5100,
          204,
          568,
          12243,
          104,
          341,
          6715,
          411,
          382,
          654,
          103,
          219,
          3885,
          86,
          227,
          6166,
          166,
          727,
          14209,
          21022,
          139,
          2,
          8,
          36,
          408,
          38,
          44,
          1235,
          17,
          19,
          262,
          6,
          14,
          440,
          36,
          65,
          1226,
          7,
          35,
          524,
          26,
          65,
          7,
          1113,
          52,
          40,
          208,
          4709,
          10,
          27,
          605,
          35,
          42,
          1040,
          10,
          1514,
          11,
          46,
          42,
          1407,
          3,
          15,
          304,
          4,
          23,
          489,
          380,
          21,
          46,
          331,
          33,
          65,
          1402,
          5,
          33,
          490,
          7,
          20,
          357,
          436,
          34,
          878,
          7,
          27,
          435,
          32,
          71,
          1370,
          17,
          35,
          34,
          49,
          32,
          902,
          5,
          23,
          417,
          30,
          90,
          1401,
          9,
          32,
          500,
          11,
          48,
          1662,
          10,
          24,
          430,
          7,
          26,
          416,
          36,
          52,
          64,
          11552,
          20283,
          374,
          3769,
          164,
          355,
          9227,
          95,
          226,
          4696,
          259,
          493,
          14825,
          73,
          113,
          2825,
          36,
          97,
          4474,
          168,
          501,
          10739,
          167,
          83,
          2699,
          93,
          274,
          2,
          0,
          31,
          5,
          28,
          523,
          93,
          168,
          97,
          5532,
          348,
          8915,
          87,
          191,
          4042,
          201,
          383,
          18148,
          39,
          190,
          302,
          6169,
          385,
          387,
          9622,
          95,
          357,
          5886,
          326,
          761,
          21218,
          49,
          100,
          218,
          30,
          160,
          3133,
          77,
          258,
          8742,
          42,
          281,
          5414,
          4622,
          690,
          3376,
          29,
          589,
          19454,
          74,
          157,
          3373,
          45,
          137,
          3560,
          128,
          157,
          632,
          112,
          343,
          6037,
          471,
          827,
          22969,
          59,
          194,
          4120,
          12459,
          4988
         ]
        }
       ],
       "layout": {
        "autosize": true,
        "legend": {
         "tracegroupgap": 0
        },
        "margin": {
         "t": 60
        },
        "sunburstcolorway": [
         "rgb(217, 233, 241)",
         "rgb(247, 182, 152)",
         "rgb(127, 8, 35)",
         "rgb(251, 209, 186)",
         "rgb(126, 184, 215)",
         "rgb(5, 48, 97)",
         "rgb(217, 233, 241)"
        ],
        "template": {
         "data": {
          "bar": [
           {
            "error_x": {
             "color": "#2a3f5f"
            },
            "error_y": {
             "color": "#2a3f5f"
            },
            "marker": {
             "line": {
              "color": "#E5ECF6",
              "width": 0.5
             },
             "pattern": {
              "fillmode": "overlay",
              "size": 10,
              "solidity": 0.2
             }
            },
            "type": "bar"
           }
          ],
          "barpolar": [
           {
            "marker": {
             "line": {
              "color": "#E5ECF6",
              "width": 0.5
             },
             "pattern": {
              "fillmode": "overlay",
              "size": 10,
              "solidity": 0.2
             }
            },
            "type": "barpolar"
           }
          ],
          "carpet": [
           {
            "aaxis": {
             "endlinecolor": "#2a3f5f",
             "gridcolor": "white",
             "linecolor": "white",
             "minorgridcolor": "white",
             "startlinecolor": "#2a3f5f"
            },
            "baxis": {
             "endlinecolor": "#2a3f5f",
             "gridcolor": "white",
             "linecolor": "white",
             "minorgridcolor": "white",
             "startlinecolor": "#2a3f5f"
            },
            "type": "carpet"
           }
          ],
          "choropleth": [
           {
            "colorbar": {
             "outlinewidth": 0,
             "ticks": ""
            },
            "type": "choropleth"
           }
          ],
          "contour": [
           {
            "colorbar": {
             "outlinewidth": 0,
             "ticks": ""
            },
            "colorscale": [
             [
              0,
              "#0d0887"
             ],
             [
              0.1111111111111111,
              "#46039f"
             ],
             [
              0.2222222222222222,
              "#7201a8"
             ],
             [
              0.3333333333333333,
              "#9c179e"
             ],
             [
              0.4444444444444444,
              "#bd3786"
             ],
             [
              0.5555555555555556,
              "#d8576b"
             ],
             [
              0.6666666666666666,
              "#ed7953"
             ],
             [
              0.7777777777777778,
              "#fb9f3a"
             ],
             [
              0.8888888888888888,
              "#fdca26"
             ],
             [
              1,
              "#f0f921"
             ]
            ],
            "type": "contour"
           }
          ],
          "contourcarpet": [
           {
            "colorbar": {
             "outlinewidth": 0,
             "ticks": ""
            },
            "type": "contourcarpet"
           }
          ],
          "heatmap": [
           {
            "colorbar": {
             "outlinewidth": 0,
             "ticks": ""
            },
            "colorscale": [
             [
              0,
              "#0d0887"
             ],
             [
              0.1111111111111111,
              "#46039f"
             ],
             [
              0.2222222222222222,
              "#7201a8"
             ],
             [
              0.3333333333333333,
              "#9c179e"
             ],
             [
              0.4444444444444444,
              "#bd3786"
             ],
             [
              0.5555555555555556,
              "#d8576b"
             ],
             [
              0.6666666666666666,
              "#ed7953"
             ],
             [
              0.7777777777777778,
              "#fb9f3a"
             ],
             [
              0.8888888888888888,
              "#fdca26"
             ],
             [
              1,
              "#f0f921"
             ]
            ],
            "type": "heatmap"
           }
          ],
          "heatmapgl": [
           {
            "colorbar": {
             "outlinewidth": 0,
             "ticks": ""
            },
            "colorscale": [
             [
              0,
              "#0d0887"
             ],
             [
              0.1111111111111111,
              "#46039f"
             ],
             [
              0.2222222222222222,
              "#7201a8"
             ],
             [
              0.3333333333333333,
              "#9c179e"
             ],
             [
              0.4444444444444444,
              "#bd3786"
             ],
             [
              0.5555555555555556,
              "#d8576b"
             ],
             [
              0.6666666666666666,
              "#ed7953"
             ],
             [
              0.7777777777777778,
              "#fb9f3a"
             ],
             [
              0.8888888888888888,
              "#fdca26"
             ],
             [
              1,
              "#f0f921"
             ]
            ],
            "type": "heatmapgl"
           }
          ],
          "histogram": [
           {
            "marker": {
             "pattern": {
              "fillmode": "overlay",
              "size": 10,
              "solidity": 0.2
             }
            },
            "type": "histogram"
           }
          ],
          "histogram2d": [
           {
            "colorbar": {
             "outlinewidth": 0,
             "ticks": ""
            },
            "colorscale": [
             [
              0,
              "#0d0887"
             ],
             [
              0.1111111111111111,
              "#46039f"
             ],
             [
              0.2222222222222222,
              "#7201a8"
             ],
             [
              0.3333333333333333,
              "#9c179e"
             ],
             [
              0.4444444444444444,
              "#bd3786"
             ],
             [
              0.5555555555555556,
              "#d8576b"
             ],
             [
              0.6666666666666666,
              "#ed7953"
             ],
             [
              0.7777777777777778,
              "#fb9f3a"
             ],
             [
              0.8888888888888888,
              "#fdca26"
             ],
             [
              1,
              "#f0f921"
             ]
            ],
            "type": "histogram2d"
           }
          ],
          "histogram2dcontour": [
           {
            "colorbar": {
             "outlinewidth": 0,
             "ticks": ""
            },
            "colorscale": [
             [
              0,
              "#0d0887"
             ],
             [
              0.1111111111111111,
              "#46039f"
             ],
             [
              0.2222222222222222,
              "#7201a8"
             ],
             [
              0.3333333333333333,
              "#9c179e"
             ],
             [
              0.4444444444444444,
              "#bd3786"
             ],
             [
              0.5555555555555556,
              "#d8576b"
             ],
             [
              0.6666666666666666,
              "#ed7953"
             ],
             [
              0.7777777777777778,
              "#fb9f3a"
             ],
             [
              0.8888888888888888,
              "#fdca26"
             ],
             [
              1,
              "#f0f921"
             ]
            ],
            "type": "histogram2dcontour"
           }
          ],
          "mesh3d": [
           {
            "colorbar": {
             "outlinewidth": 0,
             "ticks": ""
            },
            "type": "mesh3d"
           }
          ],
          "parcoords": [
           {
            "line": {
             "colorbar": {
              "outlinewidth": 0,
              "ticks": ""
             }
            },
            "type": "parcoords"
           }
          ],
          "pie": [
           {
            "automargin": true,
            "type": "pie"
           }
          ],
          "scatter": [
           {
            "marker": {
             "colorbar": {
              "outlinewidth": 0,
              "ticks": ""
             }
            },
            "type": "scatter"
           }
          ],
          "scatter3d": [
           {
            "line": {
             "colorbar": {
              "outlinewidth": 0,
              "ticks": ""
             }
            },
            "marker": {
             "colorbar": {
              "outlinewidth": 0,
              "ticks": ""
             }
            },
            "type": "scatter3d"
           }
          ],
          "scattercarpet": [
           {
            "marker": {
             "colorbar": {
              "outlinewidth": 0,
              "ticks": ""
             }
            },
            "type": "scattercarpet"
           }
          ],
          "scattergeo": [
           {
            "marker": {
             "colorbar": {
              "outlinewidth": 0,
              "ticks": ""
             }
            },
            "type": "scattergeo"
           }
          ],
          "scattergl": [
           {
            "marker": {
             "colorbar": {
              "outlinewidth": 0,
              "ticks": ""
             }
            },
            "type": "scattergl"
           }
          ],
          "scattermapbox": [
           {
            "marker": {
             "colorbar": {
              "outlinewidth": 0,
              "ticks": ""
             }
            },
            "type": "scattermapbox"
           }
          ],
          "scatterpolar": [
           {
            "marker": {
             "colorbar": {
              "outlinewidth": 0,
              "ticks": ""
             }
            },
            "type": "scatterpolar"
           }
          ],
          "scatterpolargl": [
           {
            "marker": {
             "colorbar": {
              "outlinewidth": 0,
              "ticks": ""
             }
            },
            "type": "scatterpolargl"
           }
          ],
          "scatterternary": [
           {
            "marker": {
             "colorbar": {
              "outlinewidth": 0,
              "ticks": ""
             }
            },
            "type": "scatterternary"
           }
          ],
          "surface": [
           {
            "colorbar": {
             "outlinewidth": 0,
             "ticks": ""
            },
            "colorscale": [
             [
              0,
              "#0d0887"
             ],
             [
              0.1111111111111111,
              "#46039f"
             ],
             [
              0.2222222222222222,
              "#7201a8"
             ],
             [
              0.3333333333333333,
              "#9c179e"
             ],
             [
              0.4444444444444444,
              "#bd3786"
             ],
             [
              0.5555555555555556,
              "#d8576b"
             ],
             [
              0.6666666666666666,
              "#ed7953"
             ],
             [
              0.7777777777777778,
              "#fb9f3a"
             ],
             [
              0.8888888888888888,
              "#fdca26"
             ],
             [
              1,
              "#f0f921"
             ]
            ],
            "type": "surface"
           }
          ],
          "table": [
           {
            "cells": {
             "fill": {
              "color": "#EBF0F8"
             },
             "line": {
              "color": "white"
             }
            },
            "header": {
             "fill": {
              "color": "#C8D4E3"
             },
             "line": {
              "color": "white"
             }
            },
            "type": "table"
           }
          ]
         },
         "layout": {
          "annotationdefaults": {
           "arrowcolor": "#2a3f5f",
           "arrowhead": 0,
           "arrowwidth": 1
          },
          "autotypenumbers": "strict",
          "coloraxis": {
           "colorbar": {
            "outlinewidth": 0,
            "ticks": ""
           }
          },
          "colorscale": {
           "diverging": [
            [
             0,
             "#8e0152"
            ],
            [
             0.1,
             "#c51b7d"
            ],
            [
             0.2,
             "#de77ae"
            ],
            [
             0.3,
             "#f1b6da"
            ],
            [
             0.4,
             "#fde0ef"
            ],
            [
             0.5,
             "#f7f7f7"
            ],
            [
             0.6,
             "#e6f5d0"
            ],
            [
             0.7,
             "#b8e186"
            ],
            [
             0.8,
             "#7fbc41"
            ],
            [
             0.9,
             "#4d9221"
            ],
            [
             1,
             "#276419"
            ]
           ],
           "sequential": [
            [
             0,
             "#0d0887"
            ],
            [
             0.1111111111111111,
             "#46039f"
            ],
            [
             0.2222222222222222,
             "#7201a8"
            ],
            [
             0.3333333333333333,
             "#9c179e"
            ],
            [
             0.4444444444444444,
             "#bd3786"
            ],
            [
             0.5555555555555556,
             "#d8576b"
            ],
            [
             0.6666666666666666,
             "#ed7953"
            ],
            [
             0.7777777777777778,
             "#fb9f3a"
            ],
            [
             0.8888888888888888,
             "#fdca26"
            ],
            [
             1,
             "#f0f921"
            ]
           ],
           "sequentialminus": [
            [
             0,
             "#0d0887"
            ],
            [
             0.1111111111111111,
             "#46039f"
            ],
            [
             0.2222222222222222,
             "#7201a8"
            ],
            [
             0.3333333333333333,
             "#9c179e"
            ],
            [
             0.4444444444444444,
             "#bd3786"
            ],
            [
             0.5555555555555556,
             "#d8576b"
            ],
            [
             0.6666666666666666,
             "#ed7953"
            ],
            [
             0.7777777777777778,
             "#fb9f3a"
            ],
            [
             0.8888888888888888,
             "#fdca26"
            ],
            [
             1,
             "#f0f921"
            ]
           ]
          },
          "colorway": [
           "#636efa",
           "#EF553B",
           "#00cc96",
           "#ab63fa",
           "#FFA15A",
           "#19d3f3",
           "#FF6692",
           "#B6E880",
           "#FF97FF",
           "#FECB52"
          ],
          "font": {
           "color": "#2a3f5f"
          },
          "geo": {
           "bgcolor": "white",
           "lakecolor": "white",
           "landcolor": "#E5ECF6",
           "showlakes": true,
           "showland": true,
           "subunitcolor": "white"
          },
          "hoverlabel": {
           "align": "left"
          },
          "hovermode": "closest",
          "mapbox": {
           "style": "light"
          },
          "paper_bgcolor": "white",
          "plot_bgcolor": "#E5ECF6",
          "polar": {
           "angularaxis": {
            "gridcolor": "white",
            "linecolor": "white",
            "ticks": ""
           },
           "bgcolor": "#E5ECF6",
           "radialaxis": {
            "gridcolor": "white",
            "linecolor": "white",
            "ticks": ""
           }
          },
          "scene": {
           "xaxis": {
            "backgroundcolor": "#E5ECF6",
            "gridcolor": "white",
            "gridwidth": 2,
            "linecolor": "white",
            "showbackground": true,
            "ticks": "",
            "zerolinecolor": "white"
           },
           "yaxis": {
            "backgroundcolor": "#E5ECF6",
            "gridcolor": "white",
            "gridwidth": 2,
            "linecolor": "white",
            "showbackground": true,
            "ticks": "",
            "zerolinecolor": "white"
           },
           "zaxis": {
            "backgroundcolor": "#E5ECF6",
            "gridcolor": "white",
            "gridwidth": 2,
            "linecolor": "white",
            "showbackground": true,
            "ticks": "",
            "zerolinecolor": "white"
           }
          },
          "shapedefaults": {
           "line": {
            "color": "#2a3f5f"
           }
          },
          "ternary": {
           "aaxis": {
            "gridcolor": "white",
            "linecolor": "white",
            "ticks": ""
           },
           "baxis": {
            "gridcolor": "white",
            "linecolor": "white",
            "ticks": ""
           },
           "bgcolor": "#E5ECF6",
           "caxis": {
            "gridcolor": "white",
            "linecolor": "white",
            "ticks": ""
           }
          },
          "title": {
           "x": 0.05
          },
          "xaxis": {
           "automargin": true,
           "gridcolor": "white",
           "linecolor": "white",
           "ticks": "",
           "title": {
            "standoff": 15
           },
           "zerolinecolor": "white",
           "zerolinewidth": 2
          },
          "yaxis": {
           "automargin": true,
           "gridcolor": "white",
           "linecolor": "white",
           "ticks": "",
           "title": {
            "standoff": 15
           },
           "zerolinecolor": "white",
           "zerolinewidth": 2
          }
         }
        },
        "title": {
         "text": "Vítimas por gênero dos anos de 2015 a 2020, em todas as regiões nos crimes de Homicídio doloso, Lesão corporal seguida de morte e Latrocínio"
        }
       }
      },
      "image/png": "[encoded data removed]"
     },
     "metadata": {},
     "output_type": "display_data"
    }
   ],
   "source": [
    "# grafico, o path mostra a ordem hierárquica do gráfico, o primeiro é o nível um, o segundo o nível dois,...\n",
    "# o segundo nível está dentro do primeiro, o terceiro dentro do segundo que está dentro do primeiro,...\n",
    "# o path vai percorrer toda a lista informada e juntar todos os iguais e seus respectivos valores\n",
    "fig = px.sunburst(dados, path=['crime', 'regiao', 'ano', 'genero'], values='vitimas',\n",
    "                  color='ano',  # define que a cor do nível que está o ano será mudada\n",
    "                  color_discrete_sequence=[\"rgb(217, 233, 241)\", \"rgb(247, 182, 152)\", \"rgb(127, 8, 35)\",\n",
    "                                           \"rgb(251, 209, 186)\", \"rgb(126, 184, 215)\", \"rgb(5, 48, 97)\",\n",
    "                                           \"rgb(217, 233, 241)\"]  # define a ordem das cores a serem mudadas\n",
    "                  )\n",
    "\n",
    "fig.update_layout(\n",
    "    height=600,  # tamanho do gráfico em px\n",
    "    title={\"text\": \"Vítimas por gênero dos anos de 2015 a 2020, em todas as regiões nos crimes de Homicídio doloso, Lesão corporal seguida de morte e Latrocínio\"}  # título\n",
    ")"
   ]
  }
 ],
 "metadata": {
  "interpreter": {
   "hash": "c8317088c9d1caa5d44f9d21ab888dd4bc666910278ba9f9d72b7e49320ed2d5"
  },
  "kernelspec": {
   "display_name": "Python 3 (ipykernel)",
   "language": "python",
   "name": "python3"
  },
  "language_info": {
   "codemirror_mode": {
    "name": "ipython",
    "version": 3
   },
   "file_extension": ".py",
   "mimetype": "text/x-python",
   "name": "python",
   "nbconvert_exporter": "python",
   "pygments_lexer": "ipython3",
   "version": "3.7.8"
  }
 },
 "nbformat": 4,
 "nbformat_minor": 4
}
